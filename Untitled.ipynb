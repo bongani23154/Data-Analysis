{
 "cells": [
  {
   "cell_type": "markdown",
   "id": "b210970f",
   "metadata": {},
   "source": [
    "# <span style=\"color:#0000FF; font-family:Times New Roman;\">DEATH DESCRIPTIVE ANALYSIS</span> \n",
    "<span><img src=\"imgs/profile.jpeg\" style=\"border: 2px black solid;border-radius: 50%;width:250px;float:right;\"></span>\n",
    "### <span style=\"color:#0000FF;font-family:Times New Roman;\">AUTHER: <u>BONGANI WESLEY JIYANE</u> </span> \n",
    "### <span style=\"color:#0000FF;font-family:Times New Roman;\">DATE  : <u>14 April 2023</u></span> \n",
    "### <span style=\"color:#0000FF;font-family:Times New Roman;\">SOURCE: https://www.kaggle.com/datasets/ivanchvez/causes-of-death-our-world-in-data</span> \n",
    "### <span style=\"color:#0000FF;font-family:Times New Roman;\">GITHUB URL : https://github.com/bongani23154/Data-Analysis.git </span>\n",
    "\n",
    "***"
   ]
  },
  {
   "cell_type": "markdown",
   "id": "0caa3dab",
   "metadata": {},
   "source": [
    "<h3 style=\"color:#0000FF;\">Importing Libraries:</h3> "
   ]
  },
  {
   "cell_type": "code",
   "execution_count": 194,
   "id": "26445262",
   "metadata": {
    "scrolled": false
   },
   "outputs": [],
   "source": [
    "import seaborn as sns\n",
    "import scipy.stats as stats\n",
    "import numpy as np\n",
    "import pandas as pd\n",
    "import matplotlib.pyplot as plt\n",
    "from scipy.stats import kurtosis\n",
    "from scipy.stats import skew\n",
    "from IPython.display import HTML"
   ]
  },
  {
   "cell_type": "markdown",
   "id": "2b6965c6",
   "metadata": {},
   "source": [
    "<h3 style=\"color:#0000FF;\">Printing the datasets:</h3> \n"
   ]
  },
  {
   "cell_type": "code",
   "execution_count": 197,
   "id": "26e04321",
   "metadata": {
    "scrolled": true
   },
   "outputs": [
    {
     "data": {
      "text/html": [
       "<table style=\"background-color:#6495ED; border: 1px #A9A9A9 solid; width:100%\" border=\"1\" class=\"dataframe\">\n",
       "  <thead>\n",
       "    <tr style=\"text-align: right;\">\n",
       "      <th>Entity</th>\n",
       "      <th>Code</th>\n",
       "      <th>Year</th>\n",
       "      <th>Deaths - Drug use disorders</th>\n",
       "      <th>Deaths - Alcohol use disorders</th>\n",
       "    </tr>\n",
       "  </thead>\n",
       "  <tbody>\n",
       "    <tr>\n",
       "      <td>Afghanistan</td>\n",
       "      <td>AFG</td>\n",
       "      <td>2007</td>\n",
       "      <td>252.0</td>\n",
       "      <td>111.0</td>\n",
       "    </tr>\n",
       "    <tr>\n",
       "      <td>Afghanistan</td>\n",
       "      <td>AFG</td>\n",
       "      <td>2008</td>\n",
       "      <td>261.0</td>\n",
       "      <td>114.0</td>\n",
       "    </tr>\n",
       "    <tr>\n",
       "      <td>Afghanistan</td>\n",
       "      <td>AFG</td>\n",
       "      <td>2009</td>\n",
       "      <td>270.0</td>\n",
       "      <td>115.0</td>\n",
       "    </tr>\n",
       "    <tr>\n",
       "      <td>Afghanistan</td>\n",
       "      <td>AFG</td>\n",
       "      <td>2011</td>\n",
       "      <td>292.0</td>\n",
       "      <td>120.0</td>\n",
       "    </tr>\n",
       "    <tr>\n",
       "      <td>Afghanistan</td>\n",
       "      <td>AFG</td>\n",
       "      <td>2012</td>\n",
       "      <td>305.0</td>\n",
       "      <td>124.0</td>\n",
       "    </tr>\n",
       "    <tr>\n",
       "      <td>Afghanistan</td>\n",
       "      <td>AFG</td>\n",
       "      <td>2013</td>\n",
       "      <td>316.0</td>\n",
       "      <td>126.0</td>\n",
       "    </tr>\n",
       "    <tr>\n",
       "      <td>Afghanistan</td>\n",
       "      <td>AFG</td>\n",
       "      <td>2014</td>\n",
       "      <td>326.0</td>\n",
       "      <td>128.0</td>\n",
       "    </tr>\n",
       "    <tr>\n",
       "      <td>Afghanistan</td>\n",
       "      <td>AFG</td>\n",
       "      <td>2015</td>\n",
       "      <td>339.0</td>\n",
       "      <td>131.0</td>\n",
       "    </tr>\n",
       "    <tr>\n",
       "      <td>Afghanistan</td>\n",
       "      <td>AFG</td>\n",
       "      <td>2016</td>\n",
       "      <td>354.0</td>\n",
       "      <td>135.0</td>\n",
       "    </tr>\n",
       "    <tr>\n",
       "      <td>Afghanistan</td>\n",
       "      <td>AFG</td>\n",
       "      <td>1990</td>\n",
       "      <td>93.0</td>\n",
       "      <td>72.0</td>\n",
       "    </tr>\n",
       "    <tr>\n",
       "      <td>Afghanistan</td>\n",
       "      <td>AFG</td>\n",
       "      <td>1991</td>\n",
       "      <td>102.0</td>\n",
       "      <td>75.0</td>\n",
       "    </tr>\n",
       "    <tr>\n",
       "      <td>Afghanistan</td>\n",
       "      <td>AFG</td>\n",
       "      <td>1992</td>\n",
       "      <td>118.0</td>\n",
       "      <td>80.0</td>\n",
       "    </tr>\n",
       "    <tr>\n",
       "      <td>Afghanistan</td>\n",
       "      <td>AFG</td>\n",
       "      <td>1993</td>\n",
       "      <td>132.0</td>\n",
       "      <td>85.0</td>\n",
       "    </tr>\n",
       "    <tr>\n",
       "      <td>Afghanistan</td>\n",
       "      <td>AFG</td>\n",
       "      <td>1994</td>\n",
       "      <td>142.0</td>\n",
       "      <td>88.0</td>\n",
       "    </tr>\n",
       "    <tr>\n",
       "      <td>Afghanistan</td>\n",
       "      <td>AFG</td>\n",
       "      <td>1995</td>\n",
       "      <td>151.0</td>\n",
       "      <td>91.0</td>\n",
       "    </tr>\n",
       "    <tr>\n",
       "      <td>Afghanistan</td>\n",
       "      <td>AFG</td>\n",
       "      <td>1996</td>\n",
       "      <td>159.0</td>\n",
       "      <td>93.0</td>\n",
       "    </tr>\n",
       "    <tr>\n",
       "      <td>Afghanistan</td>\n",
       "      <td>AFG</td>\n",
       "      <td>1997</td>\n",
       "      <td>168.0</td>\n",
       "      <td>96.0</td>\n",
       "    </tr>\n",
       "    <tr>\n",
       "      <td>Afghanistan</td>\n",
       "      <td>AFG</td>\n",
       "      <td>1998</td>\n",
       "      <td>173.0</td>\n",
       "      <td>97.0</td>\n",
       "    </tr>\n",
       "    <tr>\n",
       "      <td>Afghanistan</td>\n",
       "      <td>AFG</td>\n",
       "      <td>1999</td>\n",
       "      <td>178.0</td>\n",
       "      <td>98.0</td>\n",
       "    </tr>\n",
       "    <tr>\n",
       "      <td>Afghanistan</td>\n",
       "      <td>AFG</td>\n",
       "      <td>2000</td>\n",
       "      <td>186.0</td>\n",
       "      <td>99.0</td>\n",
       "    </tr>\n",
       "    <tr>\n",
       "      <td>Afghanistan</td>\n",
       "      <td>AFG</td>\n",
       "      <td>2001</td>\n",
       "      <td>197.0</td>\n",
       "      <td>101.0</td>\n",
       "    </tr>\n",
       "    <tr>\n",
       "      <td>Afghanistan</td>\n",
       "      <td>AFG</td>\n",
       "      <td>2002</td>\n",
       "      <td>202.0</td>\n",
       "      <td>101.0</td>\n",
       "    </tr>\n",
       "    <tr>\n",
       "      <td>Afghanistan</td>\n",
       "      <td>AFG</td>\n",
       "      <td>2003</td>\n",
       "      <td>216.0</td>\n",
       "      <td>104.0</td>\n",
       "    </tr>\n",
       "    <tr>\n",
       "      <td>Afghanistan</td>\n",
       "      <td>AFG</td>\n",
       "      <td>2004</td>\n",
       "      <td>229.0</td>\n",
       "      <td>107.0</td>\n",
       "    </tr>\n",
       "    <tr>\n",
       "      <td>Afghanistan</td>\n",
       "      <td>AFG</td>\n",
       "      <td>2005</td>\n",
       "      <td>239.0</td>\n",
       "      <td>109.0</td>\n",
       "    </tr>\n",
       "    <tr>\n",
       "      <td>Afghanistan</td>\n",
       "      <td>AFG</td>\n",
       "      <td>2006</td>\n",
       "      <td>245.0</td>\n",
       "      <td>110.0</td>\n",
       "    </tr>\n",
       "    <tr>\n",
       "      <td>Afghanistan</td>\n",
       "      <td>AFG</td>\n",
       "      <td>2010</td>\n",
       "      <td>281.0</td>\n",
       "      <td>118.0</td>\n",
       "    </tr>\n",
       "    <tr>\n",
       "      <td>Afghanistan</td>\n",
       "      <td>AFG</td>\n",
       "      <td>2017</td>\n",
       "      <td>372.0</td>\n",
       "      <td>139.0</td>\n",
       "    </tr>\n",
       "    <tr>\n",
       "      <td>Afghanistan</td>\n",
       "      <td>AFG</td>\n",
       "      <td>2018</td>\n",
       "      <td>390.0</td>\n",
       "      <td>143.0</td>\n",
       "    </tr>\n",
       "    <tr>\n",
       "      <td>Afghanistan</td>\n",
       "      <td>AFG</td>\n",
       "      <td>2019</td>\n",
       "      <td>406.0</td>\n",
       "      <td>147.0</td>\n",
       "    </tr>\n",
       "    <tr>\n",
       "      <td>African Region (WHO)</td>\n",
       "      <td>NaN</td>\n",
       "      <td>1990</td>\n",
       "      <td>1068.0</td>\n",
       "      <td>4098.0</td>\n",
       "    </tr>\n",
       "    <tr>\n",
       "      <td>African Region (WHO)</td>\n",
       "      <td>NaN</td>\n",
       "      <td>1991</td>\n",
       "      <td>1121.0</td>\n",
       "      <td>4199.0</td>\n",
       "    </tr>\n",
       "    <tr>\n",
       "      <td>African Region (WHO)</td>\n",
       "      <td>NaN</td>\n",
       "      <td>1992</td>\n",
       "      <td>1199.0</td>\n",
       "      <td>4323.0</td>\n",
       "    </tr>\n",
       "    <tr>\n",
       "      <td>African Region (WHO)</td>\n",
       "      <td>NaN</td>\n",
       "      <td>1993</td>\n",
       "      <td>1225.0</td>\n",
       "      <td>4377.0</td>\n",
       "    </tr>\n",
       "    <tr>\n",
       "      <td>African Region (WHO)</td>\n",
       "      <td>NaN</td>\n",
       "      <td>1994</td>\n",
       "      <td>1290.0</td>\n",
       "      <td>4485.0</td>\n",
       "    </tr>\n",
       "  </tbody>\n",
       "</table>"
      ],
      "text/plain": [
       "<IPython.core.display.HTML object>"
      ]
     },
     "execution_count": 197,
     "metadata": {},
     "output_type": "execute_result"
    }
   ],
   "source": [
    "datasets =pd.read_excel(\"annual-number-of-deaths-by-cause.xlsx\")\n",
    "New_table=datasets.head(35).to_html(index=False)\n",
    "New_table=New_table.replace('<table','<table style=\"background-color:#6495ED; border: 1px #A9A9A9 solid; width:100%\"')\n",
    "HTML(New_table)"
   ]
  },
  {
   "cell_type": "markdown",
   "id": "b2ac356d",
   "metadata": {},
   "source": [
    "<h3 style=\"color:#0000FF;\">Cleaning Empty Cells:</h3> "
   ]
  },
  {
   "cell_type": "code",
   "execution_count": 120,
   "id": "7394459f",
   "metadata": {},
   "outputs": [
    {
     "data": {
      "text/html": [
       "<table style=\"background-color:#6495ED; border: 1px #A9A9A9 solid; width:100%\" border=\"1\" class=\"dataframe\">\n",
       "  <thead>\n",
       "    <tr style=\"text-align: right;\">\n",
       "      <th>Entity</th>\n",
       "      <th>Code</th>\n",
       "      <th>Year</th>\n",
       "      <th>Deaths - Drug use disorders</th>\n",
       "      <th>Deaths - Alcohol use disorders</th>\n",
       "    </tr>\n",
       "  </thead>\n",
       "  <tbody>\n",
       "    <tr>\n",
       "      <td>Afghanistan</td>\n",
       "      <td>AFG</td>\n",
       "      <td>2007</td>\n",
       "      <td>252.0</td>\n",
       "      <td>111.0</td>\n",
       "    </tr>\n",
       "    <tr>\n",
       "      <td>Afghanistan</td>\n",
       "      <td>AFG</td>\n",
       "      <td>2008</td>\n",
       "      <td>261.0</td>\n",
       "      <td>114.0</td>\n",
       "    </tr>\n",
       "    <tr>\n",
       "      <td>Afghanistan</td>\n",
       "      <td>AFG</td>\n",
       "      <td>2009</td>\n",
       "      <td>270.0</td>\n",
       "      <td>115.0</td>\n",
       "    </tr>\n",
       "    <tr>\n",
       "      <td>Afghanistan</td>\n",
       "      <td>AFG</td>\n",
       "      <td>2011</td>\n",
       "      <td>292.0</td>\n",
       "      <td>120.0</td>\n",
       "    </tr>\n",
       "    <tr>\n",
       "      <td>Afghanistan</td>\n",
       "      <td>AFG</td>\n",
       "      <td>2012</td>\n",
       "      <td>305.0</td>\n",
       "      <td>124.0</td>\n",
       "    </tr>\n",
       "    <tr>\n",
       "      <td>Afghanistan</td>\n",
       "      <td>AFG</td>\n",
       "      <td>2013</td>\n",
       "      <td>316.0</td>\n",
       "      <td>126.0</td>\n",
       "    </tr>\n",
       "    <tr>\n",
       "      <td>Afghanistan</td>\n",
       "      <td>AFG</td>\n",
       "      <td>2014</td>\n",
       "      <td>326.0</td>\n",
       "      <td>128.0</td>\n",
       "    </tr>\n",
       "    <tr>\n",
       "      <td>Afghanistan</td>\n",
       "      <td>AFG</td>\n",
       "      <td>2015</td>\n",
       "      <td>339.0</td>\n",
       "      <td>131.0</td>\n",
       "    </tr>\n",
       "    <tr>\n",
       "      <td>Afghanistan</td>\n",
       "      <td>AFG</td>\n",
       "      <td>2016</td>\n",
       "      <td>354.0</td>\n",
       "      <td>135.0</td>\n",
       "    </tr>\n",
       "    <tr>\n",
       "      <td>Afghanistan</td>\n",
       "      <td>AFG</td>\n",
       "      <td>1990</td>\n",
       "      <td>93.0</td>\n",
       "      <td>72.0</td>\n",
       "    </tr>\n",
       "  </tbody>\n",
       "</table>"
      ],
      "text/plain": [
       "<IPython.core.display.HTML object>"
      ]
     },
     "execution_count": 120,
     "metadata": {},
     "output_type": "execute_result"
    }
   ],
   "source": [
    "#These rows had cells with empty values will be removed.\n",
    "#Note that for Code there are empty values that need to be cleaned from the dataset\n",
    "new_df = datasets.dropna()\n",
    "New_table=new_df.head(10).to_html(index=False)\n",
    "New_table=New_table.replace('<table','<table style=\"background-color:#6495ED; border: 1px #A9A9A9 solid; width:100%\"')\n",
    "HTML(New_table)"
   ]
  },
  {
   "cell_type": "markdown",
   "id": "0b8b3d40",
   "metadata": {},
   "source": [
    "<img src=\"imgs/describe.jpeg\" style=\"border: 2px black solid;border-radius: 50%;width:350px; margin-left: auto;margin-right: auto;\">"
   ]
  },
  {
   "cell_type": "code",
   "execution_count": 181,
   "id": "8b5bc922",
   "metadata": {
    "scrolled": false
   },
   "outputs": [
    {
     "data": {
      "text/html": [
       "<table style=\"background-color:#6495ED; border: 1px #A9A9A9 solid; width:100%\" border=\"1\" class=\"dataframe\">\n",
       "  <thead>\n",
       "    <tr style=\"text-align: right;\">\n",
       "      <th></th>\n",
       "      <th>Year</th>\n",
       "      <th>Deaths - Drug use disorders</th>\n",
       "      <th>Deaths - Alcohol use disorders</th>\n",
       "    </tr>\n",
       "  </thead>\n",
       "  <tbody>\n",
       "    <tr>\n",
       "      <th>count</th>\n",
       "      <td>6150.000000</td>\n",
       "      <td>6150.000000</td>\n",
       "      <td>6150.000000</td>\n",
       "    </tr>\n",
       "    <tr>\n",
       "      <th>mean</th>\n",
       "      <td>2004.500000</td>\n",
       "      <td>863.911707</td>\n",
       "      <td>1567.466992</td>\n",
       "    </tr>\n",
       "    <tr>\n",
       "      <th>std</th>\n",
       "      <td>8.656145</td>\n",
       "      <td>6878.515628</td>\n",
       "      <td>11738.165596</td>\n",
       "    </tr>\n",
       "    <tr>\n",
       "      <th>min</th>\n",
       "      <td>1990.000000</td>\n",
       "      <td>0.000000</td>\n",
       "      <td>0.000000</td>\n",
       "    </tr>\n",
       "    <tr>\n",
       "      <th>25%</th>\n",
       "      <td>1997.000000</td>\n",
       "      <td>3.000000</td>\n",
       "      <td>9.000000</td>\n",
       "    </tr>\n",
       "    <tr>\n",
       "      <th>50%</th>\n",
       "      <td>2004.500000</td>\n",
       "      <td>21.000000</td>\n",
       "      <td>81.000000</td>\n",
       "    </tr>\n",
       "    <tr>\n",
       "      <th>75%</th>\n",
       "      <td>2012.000000</td>\n",
       "      <td>132.000000</td>\n",
       "      <td>323.000000</td>\n",
       "    </tr>\n",
       "    <tr>\n",
       "      <th>max</th>\n",
       "      <td>2019.000000</td>\n",
       "      <td>128083.000000</td>\n",
       "      <td>181768.000000</td>\n",
       "    </tr>\n",
       "  </tbody>\n",
       "</table>"
      ],
      "text/plain": [
       "<IPython.core.display.HTML object>"
      ]
     },
     "execution_count": 181,
     "metadata": {},
     "output_type": "execute_result"
    }
   ],
   "source": [
    "desc_table=new_df.describe()\n",
    "Newdesc_table=desc_table.to_html()\n",
    "Newdesc_table=Newdesc_table.replace('<table','<table style=\"background-color:#6495ED; border: 1px #A9A9A9 solid; width:100%\"')\n",
    "HTML(Newdesc_table)"
   ]
  },
  {
   "cell_type": "markdown",
   "id": "84744ea3",
   "metadata": {},
   "source": [
    "***\n",
    "<div>\n",
    "   <h1 style='color:#0000FF;text-align: center;font-family:Times New Roman;'><u>Deaths - Drug use disorders Descriptive Analysis</u></h1>\n",
    "   <img src=\"imgs/Drugs.png\" style=\"width:250px;display: block;margin-left: auto;margin-right: auto;\">\n",
    "</div>\n",
    "\n",
    "\n",
    "<span style='color:#0000FF;font-size:18px'> Mean:</span>"
   ]
  },
  {
   "cell_type": "code",
   "execution_count": 182,
   "id": "62c806b4",
   "metadata": {},
   "outputs": [
    {
     "data": {
      "text/plain": [
       "863.9117073170731"
      ]
     },
     "execution_count": 182,
     "metadata": {},
     "output_type": "execute_result"
    }
   ],
   "source": [
    "Mean=new_df[\"Deaths - Drug use disorders\"].mean()\n",
    "Mean"
   ]
  },
  {
   "cell_type": "markdown",
   "id": "bab1a4ea",
   "metadata": {},
   "source": [
    "<span style='color:#0000FF;font-size:18px'> Count:</span>"
   ]
  },
  {
   "cell_type": "code",
   "execution_count": 122,
   "id": "8aab223c",
   "metadata": {},
   "outputs": [
    {
     "data": {
      "text/plain": [
       "6150"
      ]
     },
     "execution_count": 122,
     "metadata": {},
     "output_type": "execute_result"
    }
   ],
   "source": [
    "Count= new_df[\"Deaths - Drug use disorders\"].count()\n",
    "Count"
   ]
  },
  {
   "cell_type": "markdown",
   "id": "57b16105",
   "metadata": {},
   "source": [
    "<span style='color:#0000FF;font-size:18px'> Max:</span>"
   ]
  },
  {
   "cell_type": "code",
   "execution_count": 123,
   "id": "6ca112c8",
   "metadata": {},
   "outputs": [
    {
     "data": {
      "text/plain": [
       "128083.0"
      ]
     },
     "execution_count": 123,
     "metadata": {},
     "output_type": "execute_result"
    }
   ],
   "source": [
    "Large=new_df[\"Deaths - Drug use disorders\"].max()\n",
    "Large"
   ]
  },
  {
   "cell_type": "markdown",
   "id": "8209697f",
   "metadata": {},
   "source": [
    "<span style='color:#0000FF;font-size:18px'> Min:</span>"
   ]
  },
  {
   "cell_type": "code",
   "execution_count": 124,
   "id": "98e10952",
   "metadata": {},
   "outputs": [
    {
     "data": {
      "text/plain": [
       "0.0"
      ]
     },
     "execution_count": 124,
     "metadata": {},
     "output_type": "execute_result"
    }
   ],
   "source": [
    "Smallest=new_df[\"Deaths - Drug use disorders\"].min()\n",
    "Smallest"
   ]
  },
  {
   "cell_type": "markdown",
   "id": "a45813cb",
   "metadata": {},
   "source": [
    "<span style='color:#0000FF;font-size:18px'>Range:</span>"
   ]
  },
  {
   "cell_type": "code",
   "execution_count": 125,
   "id": "ccdebbff",
   "metadata": {},
   "outputs": [
    {
     "data": {
      "text/plain": [
       "128083.0"
      ]
     },
     "execution_count": 125,
     "metadata": {},
     "output_type": "execute_result"
    }
   ],
   "source": [
    "Large-Smallest"
   ]
  },
  {
   "cell_type": "markdown",
   "id": "6a7b0470",
   "metadata": {},
   "source": [
    "<span style='color:#0000FF;font-size:18px'> Mode:</span>"
   ]
  },
  {
   "cell_type": "code",
   "execution_count": 126,
   "id": "4d9f933c",
   "metadata": {
    "scrolled": true
   },
   "outputs": [
    {
     "data": {
      "text/plain": [
       "0    0.0\n",
       "Name: Deaths - Drug use disorders, dtype: float64"
      ]
     },
     "execution_count": 126,
     "metadata": {},
     "output_type": "execute_result"
    }
   ],
   "source": [
    "Mode=new_df[\"Deaths - Drug use disorders\"].mode()\n",
    "Mode"
   ]
  },
  {
   "cell_type": "markdown",
   "id": "ce41091d",
   "metadata": {},
   "source": [
    "<span style='color:#0000FF; font-size:18px'>Geometric mean:</span>"
   ]
  },
  {
   "cell_type": "code",
   "execution_count": 127,
   "id": "a694257c",
   "metadata": {},
   "outputs": [
    {
     "data": {
      "text/plain": [
       "0.0"
      ]
     },
     "execution_count": 127,
     "metadata": {},
     "output_type": "execute_result"
    }
   ],
   "source": [
    "Geometric_mean=stats.gmean(new_df[\"Deaths - Drug use disorders\"])\n",
    "Geometric_mean"
   ]
  },
  {
   "cell_type": "markdown",
   "id": "29450711",
   "metadata": {},
   "source": [
    "<span style='color:#0000FF;font-size:18px'>Standard deviation</span>"
   ]
  },
  {
   "cell_type": "code",
   "execution_count": 183,
   "id": "3a34adc3",
   "metadata": {},
   "outputs": [
    {
     "data": {
      "text/plain": [
       "6877.956376491472"
      ]
     },
     "execution_count": 183,
     "metadata": {},
     "output_type": "execute_result"
    }
   ],
   "source": [
    "std_dev = np.std(new_df[\"Deaths - Drug use disorders\"])\n",
    "std_dev"
   ]
  },
  {
   "cell_type": "markdown",
   "id": "a568425f",
   "metadata": {},
   "source": [
    "<span style='color:#0000FF;font-size:18px'>Kurtosis:</span>"
   ]
  },
  {
   "cell_type": "code",
   "execution_count": 129,
   "id": "c59ecd1b",
   "metadata": {},
   "outputs": [
    {
     "data": {
      "text/plain": [
       "160.63864876348856"
      ]
     },
     "execution_count": 129,
     "metadata": {},
     "output_type": "execute_result"
    }
   ],
   "source": [
    "Kurt = kurtosis(new_df[\"Deaths - Drug use disorders\"])\n",
    "Kurt"
   ]
  },
  {
   "cell_type": "markdown",
   "id": "99913a8e",
   "metadata": {},
   "source": [
    "<span style='color:#0000FF;font-size:18px'>Skewness:</span>"
   ]
  },
  {
   "cell_type": "code",
   "execution_count": 130,
   "id": "a1868d0e",
   "metadata": {},
   "outputs": [
    {
     "data": {
      "text/plain": [
       "12.119052856999051"
      ]
     },
     "execution_count": 130,
     "metadata": {},
     "output_type": "execute_result"
    }
   ],
   "source": [
    "Skewness = skew(new_df[\"Deaths - Drug use disorders\"])\n",
    "Skewness"
   ]
  },
  {
   "cell_type": "markdown",
   "id": "f05fe8e4",
   "metadata": {},
   "source": [
    "<span style='color:#0000FF;font-size:18px'>Coefficient of Variation:</span>"
   ]
  },
  {
   "cell_type": "code",
   "execution_count": 131,
   "id": "b757999d",
   "metadata": {},
   "outputs": [
    {
     "data": {
      "text/plain": [
       "7.9614112394093555"
      ]
     },
     "execution_count": 131,
     "metadata": {},
     "output_type": "execute_result"
    }
   ],
   "source": [
    "Coef_V = std_dev/ Mean\n",
    "Coef_V"
   ]
  },
  {
   "cell_type": "markdown",
   "id": "733fc142",
   "metadata": {},
   "source": [
    "<span style='color:#0000FF;font-size:18px'>Standard Error:</span>"
   ]
  },
  {
   "cell_type": "code",
   "execution_count": 184,
   "id": "98a8e932",
   "metadata": {},
   "outputs": [
    {
     "data": {
      "text/plain": [
       "87.70449638232922"
      ]
     },
     "execution_count": 184,
     "metadata": {},
     "output_type": "execute_result"
    }
   ],
   "source": [
    "Standard_Error = std_dev/ np.sqrt(Count)\n",
    "Standard_Error"
   ]
  },
  {
   "cell_type": "markdown",
   "id": "a2b002ce",
   "metadata": {},
   "source": [
    "<span style='color:#0000FF;font-size:18px'>Sample Variance:</span>"
   ]
  },
  {
   "cell_type": "code",
   "execution_count": 136,
   "id": "c99bd470",
   "metadata": {},
   "outputs": [
    {
     "data": {
      "text/plain": [
       "47306283.91691969"
      ]
     },
     "execution_count": 136,
     "metadata": {},
     "output_type": "execute_result"
    }
   ],
   "source": [
    "Sample_v=np.var(new_df[\"Deaths - Drug use disorders\"])\n",
    "Sample_v"
   ]
  },
  {
   "cell_type": "markdown",
   "id": "5a395fb0",
   "metadata": {},
   "source": [
    "<span style='color:#0000FF;font-size:18px'>Sum:</span>"
   ]
  },
  {
   "cell_type": "code",
   "execution_count": 134,
   "id": "bd12a41e",
   "metadata": {},
   "outputs": [
    {
     "data": {
      "text/plain": [
       "5313057.0"
      ]
     },
     "execution_count": 134,
     "metadata": {},
     "output_type": "execute_result"
    }
   ],
   "source": [
    "Sum = new_df[\"Deaths - Drug use disorders\"].sum()\n",
    "Sum"
   ]
  },
  {
   "cell_type": "markdown",
   "id": "9c0b3f49",
   "metadata": {},
   "source": [
    "<span style='color:#0000FF;font-size:18px'>Frequency Table:</span>"
   ]
  },
  {
   "cell_type": "code",
   "execution_count": 135,
   "id": "401fc78e",
   "metadata": {},
   "outputs": [
    {
     "data": {
      "text/html": [
       "<table style=\"background-color:#6495ED; border: 3px #A9A9A9 solid; width:100%\" border=\"1\" class=\"dataframe\">\n",
       "  <thead>\n",
       "    <tr style=\"text-align: right;\">\n",
       "      <th>Deaths - Drug use disorders</th>\n",
       "      <th>Frequency</th>\n",
       "    </tr>\n",
       "  </thead>\n",
       "  <tbody>\n",
       "    <tr>\n",
       "      <td>0.0</td>\n",
       "      <td>580</td>\n",
       "    </tr>\n",
       "    <tr>\n",
       "      <td>1.0</td>\n",
       "      <td>571</td>\n",
       "    </tr>\n",
       "    <tr>\n",
       "      <td>2.0</td>\n",
       "      <td>246</td>\n",
       "    </tr>\n",
       "    <tr>\n",
       "      <td>3.0</td>\n",
       "      <td>173</td>\n",
       "    </tr>\n",
       "    <tr>\n",
       "      <td>6.0</td>\n",
       "      <td>151</td>\n",
       "    </tr>\n",
       "    <tr>\n",
       "      <td>4.0</td>\n",
       "      <td>135</td>\n",
       "    </tr>\n",
       "    <tr>\n",
       "      <td>7.0</td>\n",
       "      <td>126</td>\n",
       "    </tr>\n",
       "    <tr>\n",
       "      <td>8.0</td>\n",
       "      <td>126</td>\n",
       "    </tr>\n",
       "    <tr>\n",
       "      <td>9.0</td>\n",
       "      <td>120</td>\n",
       "    </tr>\n",
       "    <tr>\n",
       "      <td>5.0</td>\n",
       "      <td>118</td>\n",
       "    </tr>\n",
       "    <tr>\n",
       "      <td>10.0</td>\n",
       "      <td>98</td>\n",
       "    </tr>\n",
       "  </tbody>\n",
       "</table>"
      ],
      "text/plain": [
       "<IPython.core.display.HTML object>"
      ]
     },
     "execution_count": 135,
     "metadata": {},
     "output_type": "execute_result"
    }
   ],
   "source": [
    "death_freq = new_df[\"Deaths - Drug use disorders\"].value_counts()\n",
    "myKeys=death_freq.keys()\n",
    "myVals=death_freq.values\n",
    "death_freq=pd.DataFrame({'Deaths - Drug use disorders': myKeys, 'Frequency': myVals})\n",
    "New_freq=death_freq.head(11).to_html(index=False)\n",
    "New_freq=New_freq.replace('<table','<table style=\"background-color:#6495ED; border: 3px #A9A9A9 solid; width:100%\"')\n",
    "HTML(New_freq)"
   ]
  },
  {
   "cell_type": "markdown",
   "id": "ebf09ae7",
   "metadata": {},
   "source": [
    "## <span style='color:#0000FF;'><u>Five number summary</u></span>"
   ]
  },
  {
   "cell_type": "markdown",
   "id": "d3c5e10b",
   "metadata": {},
   "source": [
    "<span style='color:#0000FF;font-size:18px'>First Quantile(Min):</span>"
   ]
  },
  {
   "cell_type": "code",
   "execution_count": 137,
   "id": "4c998a5d",
   "metadata": {},
   "outputs": [
    {
     "data": {
      "text/plain": [
       "0.0"
      ]
     },
     "execution_count": 137,
     "metadata": {},
     "output_type": "execute_result"
    }
   ],
   "source": [
    "new_df[\"Deaths - Drug use disorders\"].quantile(0)"
   ]
  },
  {
   "cell_type": "markdown",
   "id": "6e7424ed",
   "metadata": {},
   "source": [
    "<span style='color:#0000FF;font-size:18px'>Second Quantile:</span>"
   ]
  },
  {
   "cell_type": "code",
   "execution_count": 138,
   "id": "17d013de",
   "metadata": {},
   "outputs": [
    {
     "data": {
      "text/plain": [
       "3.0"
      ]
     },
     "execution_count": 138,
     "metadata": {},
     "output_type": "execute_result"
    }
   ],
   "source": [
    "new_df[\"Deaths - Drug use disorders\"].quantile(0.25)"
   ]
  },
  {
   "cell_type": "markdown",
   "id": "f4abd13f",
   "metadata": {},
   "source": [
    "<span style='color:#0000FF;font-size:18px'>Median:</span>"
   ]
  },
  {
   "cell_type": "code",
   "execution_count": 139,
   "id": "07cfb1fc",
   "metadata": {},
   "outputs": [
    {
     "data": {
      "text/plain": [
       "21.0"
      ]
     },
     "execution_count": 139,
     "metadata": {},
     "output_type": "execute_result"
    }
   ],
   "source": [
    "new_df[\"Deaths - Drug use disorders\"].quantile(0.50)"
   ]
  },
  {
   "cell_type": "markdown",
   "id": "6ad80488",
   "metadata": {},
   "source": [
    "<span style='color:#0000FF;font-size:18px'>Thirth Quantile:</span>"
   ]
  },
  {
   "cell_type": "code",
   "execution_count": 140,
   "id": "19f32818",
   "metadata": {},
   "outputs": [
    {
     "data": {
      "text/plain": [
       "132.0"
      ]
     },
     "execution_count": 140,
     "metadata": {},
     "output_type": "execute_result"
    }
   ],
   "source": [
    "new_df[\"Deaths - Drug use disorders\"].quantile(0.75)"
   ]
  },
  {
   "cell_type": "markdown",
   "id": "11cc2cdb",
   "metadata": {},
   "source": [
    "<span style='color:#0000FF;font-size:18px'>Forth Quantile(Max):</span>"
   ]
  },
  {
   "cell_type": "code",
   "execution_count": 141,
   "id": "06343ed2",
   "metadata": {},
   "outputs": [
    {
     "data": {
      "text/plain": [
       "128083.0"
      ]
     },
     "execution_count": 141,
     "metadata": {},
     "output_type": "execute_result"
    }
   ],
   "source": [
    "new_df[\"Deaths - Drug use disorders\"].quantile(1)"
   ]
  },
  {
   "cell_type": "markdown",
   "id": "40185061",
   "metadata": {},
   "source": [
    "## <span style='color:#0000FF'><u>Graphs For Deaths - Drug use disorders</u></span>"
   ]
  },
  {
   "cell_type": "markdown",
   "id": "9148905b",
   "metadata": {},
   "source": [
    "<span style='color:#0000FF;font-size:18px'>Box Plot:</span>"
   ]
  },
  {
   "cell_type": "code",
   "execution_count": 144,
   "id": "46aab1df",
   "metadata": {
    "scrolled": true
   },
   "outputs": [
    {
     "data": {
      "text/plain": [
       "[]"
      ]
     },
     "execution_count": 144,
     "metadata": {},
     "output_type": "execute_result"
    },
    {
     "data": {
      "image/png": "[encoded data removed]",
      "text/plain": [
       "<Figure size 640x480 with 1 Axes>"
      ]
     },
     "metadata": {},
     "output_type": "display_data"
    }
   ],
   "source": [
    "sns.boxplot(y=new_df['Deaths - Drug use disorders'])\n",
    "plt.semilogy()"
   ]
  },
  {
   "cell_type": "markdown",
   "id": "9ee86dda",
   "metadata": {},
   "source": [
    "<span style='color:#0000FF;font-size:18px'>Histogram:</span>"
   ]
  },
  {
   "cell_type": "code",
   "execution_count": 146,
   "id": "83938136",
   "metadata": {
    "scrolled": true
   },
   "outputs": [
    {
     "data": {
      "text/plain": [
       "[]"
      ]
     },
     "execution_count": 146,
     "metadata": {},
     "output_type": "execute_result"
    },
    {
     "data": {
      "image/png": "[encoded data removed]",
      "text/plain": [
       "<Figure size 640x480 with 1 Axes>"
      ]
     },
     "metadata": {},
     "output_type": "display_data"
    }
   ],
   "source": [
    "plt.hist(new_df['Deaths - Drug use disorders'])\n",
    "plt.title('Histogram For Deaths - HIV/AIDS')\n",
    "plt.xlabel('Number of Death')\n",
    "plt.ylabel('Frequency')\n",
    "plt.semilogy()"
   ]
  },
  {
   "cell_type": "markdown",
   "id": "6aea4097",
   "metadata": {},
   "source": [
    "<span style='color:#0000FF;font-size:18px'>Plot scatter:</span>"
   ]
  },
  {
   "cell_type": "code",
   "execution_count": 193,
   "id": "05a3d07d",
   "metadata": {},
   "outputs": [
    {
     "data": {
      "image/png": "[encoded data removed]",
      "text/plain": [
       "<Figure size 640x480 with 1 Axes>"
      ]
     },
     "metadata": {},
     "output_type": "display_data"
    }
   ],
   "source": [
    "plt.scatter(new_df['Year'],new_df['Deaths - Drug use disorders'])\n",
    "plt.title('Death Due To Drug Use Disorders')\n",
    "plt.xlabel('Year')\n",
    "plt.ylabel('Number Of Death')\n",
    "plt.show()"
   ]
  },
  {
   "cell_type": "markdown",
   "id": "93e46d3c",
   "metadata": {},
   "source": [
    "***\n",
    "<h1 style='color:#0000FF;text-align: center;font-family:Times New Roman;'><u>Deaths - Alcohol use disorders Descriptive Analysis</u></h1>\n",
    "<img src=\"imgs/alcohol-use-disorder.jpg\" style=\"border-radius: 50%;width:250px;display: block;margin-left: auto;margin-right:auto;\">"
   ]
  },
  {
   "cell_type": "markdown",
   "id": "261ad229",
   "metadata": {},
   "source": [
    "<span style='color:#0000FF;font-size:18px'> Mean:</span>"
   ]
  },
  {
   "cell_type": "code",
   "execution_count": 147,
   "id": "d171f61e",
   "metadata": {},
   "outputs": [
    {
     "data": {
      "text/plain": [
       "1567.4669918699187"
      ]
     },
     "execution_count": 147,
     "metadata": {},
     "output_type": "execute_result"
    }
   ],
   "source": [
    "Mean=new_df[\"Deaths - Alcohol use disorders\"].mean()\n",
    "Mean"
   ]
  },
  {
   "cell_type": "markdown",
   "id": "2b966cde",
   "metadata": {},
   "source": [
    "<span style='color:#0000FF;font-size:18px'> Count:</span>"
   ]
  },
  {
   "cell_type": "code",
   "execution_count": 148,
   "id": "d4721e5d",
   "metadata": {},
   "outputs": [
    {
     "data": {
      "text/plain": [
       "6150"
      ]
     },
     "execution_count": 148,
     "metadata": {},
     "output_type": "execute_result"
    }
   ],
   "source": [
    "Count= new_df[\"Deaths - Alcohol use disorders\"].count()\n",
    "Count"
   ]
  },
  {
   "cell_type": "markdown",
   "id": "6d7ab652",
   "metadata": {},
   "source": [
    "<span style='color:#0000FF;font-size:18px'> Max:</span>"
   ]
  },
  {
   "cell_type": "code",
   "execution_count": 149,
   "id": "3f30c40b",
   "metadata": {},
   "outputs": [
    {
     "data": {
      "text/plain": [
       "181768.0"
      ]
     },
     "execution_count": 149,
     "metadata": {},
     "output_type": "execute_result"
    }
   ],
   "source": [
    "Large=new_df[\"Deaths - Alcohol use disorders\"].max()\n",
    "Large"
   ]
  },
  {
   "cell_type": "markdown",
   "id": "6a88694c",
   "metadata": {},
   "source": [
    "<span style='color:#0000FF;font-size:18px'> Min:</span>"
   ]
  },
  {
   "cell_type": "code",
   "execution_count": 150,
   "id": "cabe1861",
   "metadata": {},
   "outputs": [
    {
     "data": {
      "text/plain": [
       "0.0"
      ]
     },
     "execution_count": 150,
     "metadata": {},
     "output_type": "execute_result"
    }
   ],
   "source": [
    "Smallest=new_df[\"Deaths - Alcohol use disorders\"].min()\n",
    "Smallest"
   ]
  },
  {
   "cell_type": "markdown",
   "id": "db6a4927",
   "metadata": {},
   "source": [
    "<span style='color:#0000FF;font-size:18px'>Range:</span>"
   ]
  },
  {
   "cell_type": "code",
   "execution_count": 151,
   "id": "ab914abc",
   "metadata": {},
   "outputs": [
    {
     "data": {
      "text/plain": [
       "181768.0"
      ]
     },
     "execution_count": 151,
     "metadata": {},
     "output_type": "execute_result"
    }
   ],
   "source": [
    "Large-Smallest"
   ]
  },
  {
   "cell_type": "markdown",
   "id": "d5cb210e",
   "metadata": {},
   "source": [
    "<span style='color:#0000FF;font-size:18px'> Mode:</span>"
   ]
  },
  {
   "cell_type": "code",
   "execution_count": 152,
   "id": "58b9e1a0",
   "metadata": {},
   "outputs": [
    {
     "data": {
      "text/plain": [
       "0    1.0\n",
       "Name: Deaths - Alcohol use disorders, dtype: float64"
      ]
     },
     "execution_count": 152,
     "metadata": {},
     "output_type": "execute_result"
    }
   ],
   "source": [
    "Mode=new_df[\"Deaths - Alcohol use disorders\"].mode()\n",
    "Mode"
   ]
  },
  {
   "cell_type": "markdown",
   "id": "96864907",
   "metadata": {},
   "source": [
    "<span style='color:#0000FF; font-size:18px'>Geometric mean:</span>"
   ]
  },
  {
   "cell_type": "code",
   "execution_count": 153,
   "id": "31f9fbfe",
   "metadata": {},
   "outputs": [
    {
     "data": {
      "text/plain": [
       "0.0"
      ]
     },
     "execution_count": 153,
     "metadata": {},
     "output_type": "execute_result"
    }
   ],
   "source": [
    "Geometric_mean=stats.gmean(new_df[\"Deaths - Alcohol use disorders\"])\n",
    "Geometric_mean"
   ]
  },
  {
   "cell_type": "markdown",
   "id": "e2f83154",
   "metadata": {},
   "source": [
    "<span style='color:#0000FF;font-size:18px'>Standard deviation:</span>"
   ]
  },
  {
   "cell_type": "code",
   "execution_count": 154,
   "id": "6f824f30",
   "metadata": {},
   "outputs": [
    {
     "data": {
      "text/plain": [
       "11737.21123447694"
      ]
     },
     "execution_count": 154,
     "metadata": {},
     "output_type": "execute_result"
    }
   ],
   "source": [
    "std_dev = np.std(new_df[\"Deaths - Alcohol use disorders\"])\n",
    "std_dev"
   ]
  },
  {
   "cell_type": "markdown",
   "id": "9be78a73",
   "metadata": {},
   "source": [
    "<span style='color:#0000FF;font-size:18px'>Kurtosis:</span>"
   ]
  },
  {
   "cell_type": "code",
   "execution_count": 155,
   "id": "d128d069",
   "metadata": {},
   "outputs": [
    {
     "data": {
      "text/plain": [
       "170.97559056661922"
      ]
     },
     "execution_count": 155,
     "metadata": {},
     "output_type": "execute_result"
    }
   ],
   "source": [
    "Kurt = kurtosis(new_df[\"Deaths - Alcohol use disorders\"])\n",
    "Kurt"
   ]
  },
  {
   "cell_type": "markdown",
   "id": "8fd1a3e3",
   "metadata": {},
   "source": [
    "<span style='color:#0000FF;font-size:18px'>Skewness:</span>"
   ]
  },
  {
   "cell_type": "code",
   "execution_count": 156,
   "id": "0289b0c3",
   "metadata": {},
   "outputs": [
    {
     "data": {
      "text/plain": [
       "12.71011099422753"
      ]
     },
     "execution_count": 156,
     "metadata": {},
     "output_type": "execute_result"
    }
   ],
   "source": [
    "Skewness = skew(new_df[\"Deaths - Alcohol use disorders\"])\n",
    "Skewness"
   ]
  },
  {
   "cell_type": "markdown",
   "id": "ba54b8ca",
   "metadata": {},
   "source": [
    "<span style='color:#0000FF;font-size:18px'>Coefficient of Variation:</span>"
   ]
  },
  {
   "cell_type": "code",
   "execution_count": 157,
   "id": "cabf2d7b",
   "metadata": {},
   "outputs": [
    {
     "data": {
      "text/plain": [
       "7.488011738272693"
      ]
     },
     "execution_count": 157,
     "metadata": {},
     "output_type": "execute_result"
    }
   ],
   "source": [
    "Coef_V = std_dev/ Mean\n",
    "Coef_V"
   ]
  },
  {
   "cell_type": "markdown",
   "id": "098a4689",
   "metadata": {},
   "source": [
    "<span style='color:#0000FF;font-size:18px'>Standard Error:</span>"
   ]
  },
  {
   "cell_type": "code",
   "execution_count": 158,
   "id": "a6b639ec",
   "metadata": {},
   "outputs": [
    {
     "data": {
      "text/plain": [
       "149.66745118815788"
      ]
     },
     "execution_count": 158,
     "metadata": {},
     "output_type": "execute_result"
    }
   ],
   "source": [
    "Standard_Error = std_dev/ np.sqrt(Count)\n",
    "Standard_Error"
   ]
  },
  {
   "cell_type": "markdown",
   "id": "44ddae7e",
   "metadata": {},
   "source": [
    "<span style='color:#0000FF;font-size:18px'>Sample Variance:</span>"
   ]
  },
  {
   "cell_type": "code",
   "execution_count": 159,
   "id": "b0814ac7",
   "metadata": {},
   "outputs": [
    {
     "data": {
      "text/plain": [
       "137762127.56273168"
      ]
     },
     "execution_count": 159,
     "metadata": {},
     "output_type": "execute_result"
    }
   ],
   "source": [
    "Sample_v=np.var(new_df[\"Deaths - Alcohol use disorders\"])\n",
    "Sample_v"
   ]
  },
  {
   "cell_type": "markdown",
   "id": "0f18334e",
   "metadata": {},
   "source": [
    "<span style='color:#0000FF;font-size:18px'>Sum:</span>"
   ]
  },
  {
   "cell_type": "code",
   "execution_count": 160,
   "id": "7c79fb05",
   "metadata": {},
   "outputs": [
    {
     "data": {
      "text/plain": [
       "9639922.0"
      ]
     },
     "execution_count": 160,
     "metadata": {},
     "output_type": "execute_result"
    }
   ],
   "source": [
    "Sum = new_df[\"Deaths - Alcohol use disorders\"].sum()\n",
    "Sum"
   ]
  },
  {
   "cell_type": "markdown",
   "id": "71a45c49",
   "metadata": {},
   "source": [
    "<span style='color:#0000FF;font-size:18px'>Frequency Table:</span>"
   ]
  },
  {
   "cell_type": "code",
   "execution_count": 162,
   "id": "021f8f4c",
   "metadata": {},
   "outputs": [
    {
     "data": {
      "text/html": [
       "<table style=\"background-color:#6495ED; border: 3px #A9A9A9 solid; width:100%\" border=\"1\" class=\"dataframe\">\n",
       "  <thead>\n",
       "    <tr style=\"text-align: right;\">\n",
       "      <th>Deaths - Alcohol use disorders</th>\n",
       "      <th>Frequency</th>\n",
       "    </tr>\n",
       "  </thead>\n",
       "  <tbody>\n",
       "    <tr>\n",
       "      <td>1.0</td>\n",
       "      <td>314</td>\n",
       "    </tr>\n",
       "    <tr>\n",
       "      <td>0.0</td>\n",
       "      <td>279</td>\n",
       "    </tr>\n",
       "    <tr>\n",
       "      <td>2.0</td>\n",
       "      <td>175</td>\n",
       "    </tr>\n",
       "    <tr>\n",
       "      <td>6.0</td>\n",
       "      <td>140</td>\n",
       "    </tr>\n",
       "    <tr>\n",
       "      <td>5.0</td>\n",
       "      <td>135</td>\n",
       "    </tr>\n",
       "    <tr>\n",
       "      <td>4.0</td>\n",
       "      <td>126</td>\n",
       "    </tr>\n",
       "    <tr>\n",
       "      <td>3.0</td>\n",
       "      <td>119</td>\n",
       "    </tr>\n",
       "    <tr>\n",
       "      <td>7.0</td>\n",
       "      <td>101</td>\n",
       "    </tr>\n",
       "    <tr>\n",
       "      <td>8.0</td>\n",
       "      <td>94</td>\n",
       "    </tr>\n",
       "    <tr>\n",
       "      <td>10.0</td>\n",
       "      <td>73</td>\n",
       "    </tr>\n",
       "    <tr>\n",
       "      <td>11.0</td>\n",
       "      <td>61</td>\n",
       "    </tr>\n",
       "  </tbody>\n",
       "</table>"
      ],
      "text/plain": [
       "<IPython.core.display.HTML object>"
      ]
     },
     "execution_count": 162,
     "metadata": {},
     "output_type": "execute_result"
    }
   ],
   "source": [
    "death_freq = new_df[\"Deaths - Alcohol use disorders\"].value_counts()\n",
    "myKeys=death_freq.keys()\n",
    "myVals=death_freq.values\n",
    "death_freq=pd.DataFrame({'Deaths - Alcohol use disorders': myKeys, 'Frequency': myVals})\n",
    "New_freq=death_freq.head(11).to_html(index=False)\n",
    "New_freq=New_freq.replace('<table','<table style=\"background-color:#6495ED; border: 3px #A9A9A9 solid; width:100%\"')\n",
    "HTML(New_freq)"
   ]
  },
  {
   "cell_type": "markdown",
   "id": "6672ea19",
   "metadata": {},
   "source": [
    "## <span style='color:#0000FF;'><u>Five number summary</u></span>"
   ]
  },
  {
   "cell_type": "markdown",
   "id": "4448afcd",
   "metadata": {},
   "source": [
    "<span style='color:#0000FF;font-size:18px'>First Quantile(Min):</span>"
   ]
  },
  {
   "cell_type": "code",
   "execution_count": 163,
   "id": "019f0033",
   "metadata": {},
   "outputs": [
    {
     "data": {
      "text/plain": [
       "0.0"
      ]
     },
     "execution_count": 163,
     "metadata": {},
     "output_type": "execute_result"
    }
   ],
   "source": [
    "new_df[\"Deaths - Alcohol use disorders\"].quantile(0)"
   ]
  },
  {
   "cell_type": "markdown",
   "id": "030b0c38",
   "metadata": {},
   "source": [
    "<span style='color:#0000FF;font-size:18px'>Second Quantile:</span>"
   ]
  },
  {
   "cell_type": "code",
   "execution_count": 164,
   "id": "519cb9c2",
   "metadata": {},
   "outputs": [
    {
     "data": {
      "text/plain": [
       "9.0"
      ]
     },
     "execution_count": 164,
     "metadata": {},
     "output_type": "execute_result"
    }
   ],
   "source": [
    "new_df[\"Deaths - Alcohol use disorders\"].quantile(0.25)"
   ]
  },
  {
   "cell_type": "markdown",
   "id": "9529f2c9",
   "metadata": {},
   "source": [
    "<span style='color:#0000FF;font-size:18px'>Median:</span>"
   ]
  },
  {
   "cell_type": "code",
   "execution_count": 165,
   "id": "4a075cb9",
   "metadata": {},
   "outputs": [
    {
     "data": {
      "text/plain": [
       "81.0"
      ]
     },
     "execution_count": 165,
     "metadata": {},
     "output_type": "execute_result"
    }
   ],
   "source": [
    "new_df[\"Deaths - Alcohol use disorders\"].quantile(0.50)"
   ]
  },
  {
   "cell_type": "markdown",
   "id": "89fd159b",
   "metadata": {},
   "source": [
    "<span style='color:#0000FF;font-size:18px'>Thirth Quantile:</span>"
   ]
  },
  {
   "cell_type": "code",
   "execution_count": 166,
   "id": "f0c9ec44",
   "metadata": {},
   "outputs": [
    {
     "data": {
      "text/plain": [
       "323.0"
      ]
     },
     "execution_count": 166,
     "metadata": {},
     "output_type": "execute_result"
    }
   ],
   "source": [
    "new_df[\"Deaths - Alcohol use disorders\"].quantile(0.75)"
   ]
  },
  {
   "cell_type": "markdown",
   "id": "7a7eeddf",
   "metadata": {},
   "source": [
    "<span style='color:#0000FF;font-size:18px'>Forth Quantile(Max):</span>"
   ]
  },
  {
   "cell_type": "code",
   "execution_count": 167,
   "id": "036e306c",
   "metadata": {},
   "outputs": [
    {
     "data": {
      "text/plain": [
       "181768.0"
      ]
     },
     "execution_count": 167,
     "metadata": {},
     "output_type": "execute_result"
    }
   ],
   "source": [
    "new_df[\"Deaths - Alcohol use disorders\"].quantile(1)"
   ]
  },
  {
   "cell_type": "markdown",
   "id": "9b1dc775",
   "metadata": {},
   "source": [
    "## <span style='color:#0000FF'><u>Graphs for Deaths - Alcohol use disorders<u/></span>"
   ]
  },
  {
   "cell_type": "markdown",
   "id": "bb925b83",
   "metadata": {},
   "source": [
    "<span style='color:#0000FF; font-size:18px'>Box Plot:</span>"
   ]
  },
  {
   "cell_type": "code",
   "execution_count": 169,
   "id": "31b4c78c",
   "metadata": {},
   "outputs": [
    {
     "data": {
      "text/plain": [
       "[]"
      ]
     },
     "execution_count": 169,
     "metadata": {},
     "output_type": "execute_result"
    },
    {
     "data": {
      "image/png": "[encoded data removed]",
      "text/plain": [
       "<Figure size 640x480 with 1 Axes>"
      ]
     },
     "metadata": {},
     "output_type": "display_data"
    }
   ],
   "source": [
    "sns.boxplot(y=new_df['Deaths - Alcohol use disorders'])\n",
    "plt.semilogy()"
   ]
  },
  {
   "cell_type": "markdown",
   "id": "4c4b7edb",
   "metadata": {},
   "source": [
    "<span style='color:#0000FF;font-size:18px'>Histogram:</span>"
   ]
  },
  {
   "cell_type": "code",
   "execution_count": 171,
   "id": "1f2e7637",
   "metadata": {},
   "outputs": [
    {
     "data": {
      "text/plain": [
       "[]"
      ]
     },
     "execution_count": 171,
     "metadata": {},
     "output_type": "execute_result"
    },
    {
     "data": {
      "image/png": "[encoded data removed]",
      "text/plain": [
       "<Figure size 640x480 with 1 Axes>"
      ]
     },
     "metadata": {},
     "output_type": "display_data"
    }
   ],
   "source": [
    "plt.hist(new_df['Deaths - Alcohol use disorders'])\n",
    "plt.title('Histogram For Deaths - Alcohol use disorders')\n",
    "plt.xlabel('Number of Death')\n",
    "plt.ylabel('Frequency')\n",
    "plt.semilogy()"
   ]
  },
  {
   "cell_type": "markdown",
   "id": "b9b5e01a",
   "metadata": {},
   "source": [
    "<span style='color:#0000FF;font-size:18px'>Plot scatter:</span>"
   ]
  },
  {
   "cell_type": "code",
   "execution_count": 192,
   "id": "497fba1e",
   "metadata": {},
   "outputs": [
    {
     "data": {
      "image/png": "[encoded data removed]",
      "text/plain": [
       "<Figure size 640x480 with 1 Axes>"
      ]
     },
     "metadata": {},
     "output_type": "display_data"
    }
   ],
   "source": [
    "plt.scatter(new_df['Year'],new_df['Deaths - Alcohol use disorders'])\n",
    "plt.title('Death Due to Alcohol Use Disorders')\n",
    "plt.xlabel('Year')\n",
    "plt.ylabel('Number Of Death')\n",
    "plt.show()"
   ]
  },
  {
   "cell_type": "markdown",
   "id": "50e46333",
   "metadata": {},
   "source": [
    "<span style='color:#0000FF;font-size:18px'>Correlation matrix:</span>"
   ]
  },
  {
   "cell_type": "code",
   "execution_count": 172,
   "id": "d6eac0b6",
   "metadata": {
    "scrolled": false
   },
   "outputs": [
    {
     "name": "stderr",
     "output_type": "stream",
     "text": [
      "C:\\Users\\BONGZ\\AppData\\Local\\Temp\\ipykernel_17072\\2983462586.py:1: FutureWarning: The default value of numeric_only in DataFrame.corr is deprecated. In a future version, it will default to False. Select only valid columns or specify the value of numeric_only to silence this warning.\n",
      "  corr_matrix = new_df.corr()\n"
     ]
    },
    {
     "data": {
      "text/plain": [
       "<Axes: >"
      ]
     },
     "execution_count": 172,
     "metadata": {},
     "output_type": "execute_result"
    },
    {
     "data": {
      "image/png": "[encoded data removed]",
      "text/plain": [
       "<Figure size 640x480 with 2 Axes>"
      ]
     },
     "metadata": {},
     "output_type": "display_data"
    }
   ],
   "source": [
    "corr_matrix = new_df.corr()\n",
    "sns.heatmap(corr_matrix, cmap='mako',center=0, annot=True)"
   ]
  },
  {
   "cell_type": "markdown",
   "id": "5b331112",
   "metadata": {},
   "source": [
    "***"
   ]
  },
  {
   "cell_type": "markdown",
   "id": "aa0d8707",
   "metadata": {},
   "source": [
    "<div style='border:3px blue solid;padding:15px;margin:15px;background-color:#1E90FF;border-radius:5px'>\n",
    "<h1 style='text-align:center;font-family:Times New Roman;color:#ffff'><u>CONCLUTION FROM THE ANALYSIS ABOVE!</u></h1>\n",
    "\n",
    "<p style='color:#ffff;font-size:16px'>The sum of deaths caused by drug use disorders (5,313,057) is significantly lower than the sum of deaths caused by alcohol use disorders (9,639,922). This indicates that alcohol use disorders are a more significant public health issue in terms of the total number of deaths they cause.</p>\n",
    "    \n",
    "<p style='color:#ffff;font-size:16px'>Drug use disorders resulted in an average of approximately 864 deaths per year, with a standard deviation of 6,877.96 deaths. The number of deaths caused by drug use disorders ranged from 0 to 128,083 per year, with a median of 21 deaths per year. The distribution of deaths caused by drug use disorders was heavily skewed towards the right, with a few years having very high numbers of deaths.</p>\n",
    "\n",
    "<p style='color:#ffff;font-size:16px'>Alcohol use disorders resulted in an average of approximately 1567 deaths per year, with a standard deviation of 11,737.21 deaths. The number of deaths caused by alcohol use disorders ranged from 0 to 181,768 per year, with a median of 81 deaths per year. The distribution of deaths caused by alcohol use disorders was also heavily skewed towards the right, but with a more pronounced peak around the mean.</p>\n",
    "\n",
    "<p style='color:#ffff;font-size:16px'>In conclusion, the data provided underscores the importance of addressing drug use disorders and alcohol use disorders as significant public health issues. By working together to prevent, intervene early, and provide effective treatment and support services, we can reduce the number of deaths caused by these disorders and improve the health and well-being of individuals, families, and communities.</p>\n",
    "\n",
    "<h1 style='text-align:center;font-family:Times New Roman;color:#ffff'><u>Reflection</u></h1>\n",
    "<h4 style='color:#ffff;margin:6px 6px;font-size:16px'>1. Reflections on your learnings between this assignment and the previous one.</h4> \n",
    "    <ul>\n",
    "        <li style='color:#ffff;margin:6px 6px;font-size:16px'><p style='color:#ffff;margin:6px 6px;font-size:16px'>Python has several libraries, such as Pandas, NumPy, Matplotlib and Seaborn, which allow for data manipulation, data visualization and descriptive statistics. These libraries allowed me to manipulate and clean data, create visualizations of my data, and calculate descriptive statistics such as mean, median, mode, variance, and standard deviation.</p></li>\n",
    "    </ul>\n",
    "     <ul>\n",
    "        <li style='color:#ffff;margin:6px 6px;font-size:16px'><p style='color:#ffff;margin:6px 6px;font-size:16px'>Excel is a popular spreadsheet program used for data entry, analysis, and visualization. It has many built-in tools such as descriptive statistics. It is also good for working with small to medium-sized datasets and performing basic calculations and analyses.</p>\n",
    "    </li>\n",
    "    </ul>\n",
    "\n",
    "<h4 style='color:#ffff;margin:6px 6px;font-size:16px'>2. What was different between Python and Excel?</h4>\n",
    "<ul>\n",
    "        <li style='color:#ffff;margin:6px 6px;font-size:16px'>Data size and complexity: Excel is good for small to medium-sized datasets, while Python can handle much larger and more complex datasets.</li>\n",
    "    </ul>\n",
    "    <ul>\n",
    "        <li style='color:#ffff;margin:6px 6px;font-size:16px'>Data manipulation: Excel has many built-in tools that allow you to manipulate and clean data, but Python has more advanced and flexible data manipulation tools, such as the Pandas library.</li>\n",
    "    </ul>\n",
    "     <ul>\n",
    "        <li style='color:#ffff;margin:6px 6px;font-size:16px'>Statistical analysis: Excel has built-in statistical functions and tools, such as calculating descriptive statistics. However, Python has more advanced statistical analysis tools, such as the Numpy and Pandas libraries,which allow for data manipulation, data visualization and descriptive statistics.</li>\n",
    "    </ul>\n",
    "\n",
    "<h4 style='color:#ffff;margin:6px 6px;font-size:16px'>3. When will you use either of them?</h4>\n",
    "<p style='color:#ffff;margin:6px 6px;font-size:16px'>Excel when:</p>\n",
    "    <ul>\n",
    "        <li style='color:#ffff;margin:6px 6px;font-size:16px'>I have a small to medium-sized datasets</li>\n",
    "    </ul>\n",
    "    <ul>\n",
    "        <li style='color:#ffff;margin:6px 6px;font-size:16px'>You want a user-friendly interface that does not require programming skills.</li>\n",
    "    </ul>\n",
    "<p style='color:#ffff;margin:6px 6px;font-size:16px'>Python when:</p>\n",
    "    <ul>\n",
    "        <li style='color:#ffff;margin:6px 6px;font-size:16px'>I have a large and complex datasets</li>\n",
    "    </ul>\n",
    "    <ul>\n",
    "        <li style='color:#ffff;margin:6px 6px;font-size:16px'>I want to customize my analysis using functions and libraries available in Python.</li>\n",
    "    </ul>\n",
    "<h4 style='color:#ffff;margin:6px 6px;font-size:16px'>4. If you could do this assignment over, what would you do differently?</h4>\n",
    "    <ul>\n",
    "        <li style='color:#ffff;margin:6px 6px;font-size:16px'>I will use Python for the assignment, because it has libraries such as Pandas for data manipulation, Matplotlib or Seaborn for data visualization, Scipy for statistical analysis, Jupyter Notebooks to document my analysis, and Python's programming capabilities to automate repetitive tasks.</li>\n",
    "    </ul>\n",
    "<h4 style='color:#ffff;margin:6px 6px;font-size:16px'>5. What are the gaps in your programming or stats knowledge?</h4>\n",
    "<p style='color:#ffff;margin:6px 6px;font-size:16px'>Statistics knowledge:</p>\n",
    "    <ul>\n",
    "        <li style='color:#ffff;margin:6px 6px;font-size:16px'>Data analysis and manipulation: Both Excel and Python can be used for data analysis and manipulation, but I need to learn how to work with different types of data, such as numerical, categorical, and text data.</li>\n",
    "    </ul>\n",
    "    <ul>\n",
    "        <li style='color:#ffff;margin:6px 6px;font-size:16px'>Problem-solving: Finally, I need to develop problem-solving skills to effectively work with data and implement machine learning models. This includes being able to break down complex problems into smaller, more manageable parts, and being able to identify and test hypotheses to find the best solution.</li>\n",
    "    </ul>\n",
    "        <ul>\n",
    "        <li style='color:#ffff;margin:6px 6px;font-size:16px'>Data visualization: I need to learn how to create visualizations that communicate your data effectively, such as charts, histograms, and scatter plots.</li>\n",
    "    </ul>\n",
    "    \n",
    "</div>"
   ]
  },
  {
   "cell_type": "code",
   "execution_count": null,
   "id": "1823a0a2",
   "metadata": {},
   "outputs": [],
   "source": []
  },
  {
   "cell_type": "code",
   "execution_count": null,
   "id": "8ede2529",
   "metadata": {},
   "outputs": [],
   "source": []
  }
 ],
 "metadata": {
  "kernelspec": {
   "display_name": "Python 3 (ipykernel)",
   "language": "python",
   "name": "python3"
  },
  "language_info": {
   "codemirror_mode": {
    "name": "ipython",
    "version": 3
   },
   "file_extension": ".py",
   "mimetype": "text/x-python",
   "name": "python",
   "nbconvert_exporter": "python",
   "pygments_lexer": "ipython3",
   "version": "3.10.9"
  }
 },
 "nbformat": 4,
 "nbformat_minor": 5
}
