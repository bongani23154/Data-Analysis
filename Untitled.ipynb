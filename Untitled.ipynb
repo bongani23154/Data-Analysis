{
 "cells": [
  {
   "cell_type": "markdown",
   "id": "b210970f",
   "metadata": {},
   "source": [
    "# <span style=\"color:#0000FF; font-family:Times New Roman;\">DEATH DESCRIPTIVE ANALYSIS PER COUNTRY</span> \n",
    "<span><img src=\"imgs/profile.jpeg\" style=\"border: 2px black solid;border-radius: 50%;width:250px;float:right;\"></span>\n",
    "### <span style=\"color:#0000FF;font-family:Times New Roman;\">AUTHER: <u>BONGANI WESLEY JIYANE</u> </span> \n",
    "### <span style=\"color:#0000FF;font-family:Times New Roman;\">DATE  : <u>31 MARCH 2023</u></span> \n",
    "### <span style=\"color:#0000FF;font-family:Times New Roman;\">SOURCE: https://www.kaggle.com/datasets/ivanchvez/causes-of-death-our-world-in-data</span> \n",
    "### <span style=\"color:#0000FF;font-family:Times New Roman;\">GITHUB URL : https://github.com/bongani23154/Assignment-3.git</span>\n",
    "\n",
    "***"
   ]
  },
  {
   "cell_type": "markdown",
   "id": "0caa3dab",
   "metadata": {},
   "source": [
    "<h3 style=\"color:#0000FF;\">Importing Libraries:</h3> \n",
    " "
   ]
  },
  {
   "cell_type": "code",
   "execution_count": 1,
   "id": "26445262",
   "metadata": {
    "scrolled": false
   },
   "outputs": [],
   "source": [
    "import seaborn as sns\n",
    "import scipy.stats as stats\n",
    "import numpy as np\n",
    "import pandas as pd\n",
    "import matplotlib.pyplot as plt\n",
    "from scipy.stats import kurtosis\n",
    "from scipy.stats import skew\n",
    "from IPython.display import HTML"
   ]
  },
  {
   "cell_type": "markdown",
   "id": "2b6965c6",
   "metadata": {},
   "source": [
    "<h3 style=\"color:#0000FF;\">Printing the datasets:</h3> \n"
   ]
  },
  {
   "cell_type": "code",
   "execution_count": 119,
   "id": "26e04321",
   "metadata": {},
   "outputs": [
    {
     "data": {
      "text/html": [
       "<table style=\"background-color:#6495ED; border: 1px #A9A9A9 solid; width:100%\" border=\"1\" class=\"dataframe\">\n",
       "  <thead>\n",
       "    <tr style=\"text-align: right;\">\n",
       "      <th>Entity</th>\n",
       "      <th>Code</th>\n",
       "      <th>Year</th>\n",
       "      <th>Deaths - Drug use disorders</th>\n",
       "      <th>Deaths - Alcohol use disorders</th>\n",
       "    </tr>\n",
       "  </thead>\n",
       "  <tbody>\n",
       "    <tr>\n",
       "      <td>Afghanistan</td>\n",
       "      <td>AFG</td>\n",
       "      <td>2007</td>\n",
       "      <td>252.0</td>\n",
       "      <td>111.0</td>\n",
       "    </tr>\n",
       "    <tr>\n",
       "      <td>Afghanistan</td>\n",
       "      <td>AFG</td>\n",
       "      <td>2008</td>\n",
       "      <td>261.0</td>\n",
       "      <td>114.0</td>\n",
       "    </tr>\n",
       "    <tr>\n",
       "      <td>Afghanistan</td>\n",
       "      <td>AFG</td>\n",
       "      <td>2009</td>\n",
       "      <td>270.0</td>\n",
       "      <td>115.0</td>\n",
       "    </tr>\n",
       "    <tr>\n",
       "      <td>Afghanistan</td>\n",
       "      <td>AFG</td>\n",
       "      <td>2011</td>\n",
       "      <td>292.0</td>\n",
       "      <td>120.0</td>\n",
       "    </tr>\n",
       "    <tr>\n",
       "      <td>Afghanistan</td>\n",
       "      <td>AFG</td>\n",
       "      <td>2012</td>\n",
       "      <td>305.0</td>\n",
       "      <td>124.0</td>\n",
       "    </tr>\n",
       "    <tr>\n",
       "      <td>Afghanistan</td>\n",
       "      <td>AFG</td>\n",
       "      <td>2013</td>\n",
       "      <td>316.0</td>\n",
       "      <td>126.0</td>\n",
       "    </tr>\n",
       "    <tr>\n",
       "      <td>Afghanistan</td>\n",
       "      <td>AFG</td>\n",
       "      <td>2014</td>\n",
       "      <td>326.0</td>\n",
       "      <td>128.0</td>\n",
       "    </tr>\n",
       "    <tr>\n",
       "      <td>Afghanistan</td>\n",
       "      <td>AFG</td>\n",
       "      <td>2015</td>\n",
       "      <td>339.0</td>\n",
       "      <td>131.0</td>\n",
       "    </tr>\n",
       "    <tr>\n",
       "      <td>Afghanistan</td>\n",
       "      <td>AFG</td>\n",
       "      <td>2016</td>\n",
       "      <td>354.0</td>\n",
       "      <td>135.0</td>\n",
       "    </tr>\n",
       "    <tr>\n",
       "      <td>Afghanistan</td>\n",
       "      <td>AFG</td>\n",
       "      <td>1990</td>\n",
       "      <td>93.0</td>\n",
       "      <td>72.0</td>\n",
       "    </tr>\n",
       "    <tr>\n",
       "      <td>Afghanistan</td>\n",
       "      <td>AFG</td>\n",
       "      <td>1991</td>\n",
       "      <td>102.0</td>\n",
       "      <td>75.0</td>\n",
       "    </tr>\n",
       "    <tr>\n",
       "      <td>Afghanistan</td>\n",
       "      <td>AFG</td>\n",
       "      <td>1992</td>\n",
       "      <td>118.0</td>\n",
       "      <td>80.0</td>\n",
       "    </tr>\n",
       "    <tr>\n",
       "      <td>Afghanistan</td>\n",
       "      <td>AFG</td>\n",
       "      <td>1993</td>\n",
       "      <td>132.0</td>\n",
       "      <td>85.0</td>\n",
       "    </tr>\n",
       "    <tr>\n",
       "      <td>Afghanistan</td>\n",
       "      <td>AFG</td>\n",
       "      <td>1994</td>\n",
       "      <td>142.0</td>\n",
       "      <td>88.0</td>\n",
       "    </tr>\n",
       "    <tr>\n",
       "      <td>Afghanistan</td>\n",
       "      <td>AFG</td>\n",
       "      <td>1995</td>\n",
       "      <td>151.0</td>\n",
       "      <td>91.0</td>\n",
       "    </tr>\n",
       "    <tr>\n",
       "      <td>Afghanistan</td>\n",
       "      <td>AFG</td>\n",
       "      <td>1996</td>\n",
       "      <td>159.0</td>\n",
       "      <td>93.0</td>\n",
       "    </tr>\n",
       "    <tr>\n",
       "      <td>Afghanistan</td>\n",
       "      <td>AFG</td>\n",
       "      <td>1997</td>\n",
       "      <td>168.0</td>\n",
       "      <td>96.0</td>\n",
       "    </tr>\n",
       "    <tr>\n",
       "      <td>Afghanistan</td>\n",
       "      <td>AFG</td>\n",
       "      <td>1998</td>\n",
       "      <td>173.0</td>\n",
       "      <td>97.0</td>\n",
       "    </tr>\n",
       "    <tr>\n",
       "      <td>Afghanistan</td>\n",
       "      <td>AFG</td>\n",
       "      <td>1999</td>\n",
       "      <td>178.0</td>\n",
       "      <td>98.0</td>\n",
       "    </tr>\n",
       "    <tr>\n",
       "      <td>Afghanistan</td>\n",
       "      <td>AFG</td>\n",
       "      <td>2000</td>\n",
       "      <td>186.0</td>\n",
       "      <td>99.0</td>\n",
       "    </tr>\n",
       "    <tr>\n",
       "      <td>Afghanistan</td>\n",
       "      <td>AFG</td>\n",
       "      <td>2001</td>\n",
       "      <td>197.0</td>\n",
       "      <td>101.0</td>\n",
       "    </tr>\n",
       "    <tr>\n",
       "      <td>Afghanistan</td>\n",
       "      <td>AFG</td>\n",
       "      <td>2002</td>\n",
       "      <td>202.0</td>\n",
       "      <td>101.0</td>\n",
       "    </tr>\n",
       "    <tr>\n",
       "      <td>Afghanistan</td>\n",
       "      <td>AFG</td>\n",
       "      <td>2003</td>\n",
       "      <td>216.0</td>\n",
       "      <td>104.0</td>\n",
       "    </tr>\n",
       "    <tr>\n",
       "      <td>Afghanistan</td>\n",
       "      <td>AFG</td>\n",
       "      <td>2004</td>\n",
       "      <td>229.0</td>\n",
       "      <td>107.0</td>\n",
       "    </tr>\n",
       "    <tr>\n",
       "      <td>Afghanistan</td>\n",
       "      <td>AFG</td>\n",
       "      <td>2005</td>\n",
       "      <td>239.0</td>\n",
       "      <td>109.0</td>\n",
       "    </tr>\n",
       "    <tr>\n",
       "      <td>Afghanistan</td>\n",
       "      <td>AFG</td>\n",
       "      <td>2006</td>\n",
       "      <td>245.0</td>\n",
       "      <td>110.0</td>\n",
       "    </tr>\n",
       "    <tr>\n",
       "      <td>Afghanistan</td>\n",
       "      <td>AFG</td>\n",
       "      <td>2010</td>\n",
       "      <td>281.0</td>\n",
       "      <td>118.0</td>\n",
       "    </tr>\n",
       "    <tr>\n",
       "      <td>Afghanistan</td>\n",
       "      <td>AFG</td>\n",
       "      <td>2017</td>\n",
       "      <td>372.0</td>\n",
       "      <td>139.0</td>\n",
       "    </tr>\n",
       "    <tr>\n",
       "      <td>Afghanistan</td>\n",
       "      <td>AFG</td>\n",
       "      <td>2018</td>\n",
       "      <td>390.0</td>\n",
       "      <td>143.0</td>\n",
       "    </tr>\n",
       "    <tr>\n",
       "      <td>Afghanistan</td>\n",
       "      <td>AFG</td>\n",
       "      <td>2019</td>\n",
       "      <td>406.0</td>\n",
       "      <td>147.0</td>\n",
       "    </tr>\n",
       "    <tr>\n",
       "      <td>African Region (WHO)</td>\n",
       "      <td>NaN</td>\n",
       "      <td>1990</td>\n",
       "      <td>1068.0</td>\n",
       "      <td>4098.0</td>\n",
       "    </tr>\n",
       "    <tr>\n",
       "      <td>African Region (WHO)</td>\n",
       "      <td>NaN</td>\n",
       "      <td>1991</td>\n",
       "      <td>1121.0</td>\n",
       "      <td>4199.0</td>\n",
       "    </tr>\n",
       "    <tr>\n",
       "      <td>African Region (WHO)</td>\n",
       "      <td>NaN</td>\n",
       "      <td>1992</td>\n",
       "      <td>1199.0</td>\n",
       "      <td>4323.0</td>\n",
       "    </tr>\n",
       "    <tr>\n",
       "      <td>African Region (WHO)</td>\n",
       "      <td>NaN</td>\n",
       "      <td>1993</td>\n",
       "      <td>1225.0</td>\n",
       "      <td>4377.0</td>\n",
       "    </tr>\n",
       "    <tr>\n",
       "      <td>African Region (WHO)</td>\n",
       "      <td>NaN</td>\n",
       "      <td>1994</td>\n",
       "      <td>1290.0</td>\n",
       "      <td>4485.0</td>\n",
       "    </tr>\n",
       "  </tbody>\n",
       "</table>"
      ],
      "text/plain": [
       "<IPython.core.display.HTML object>"
      ]
     },
     "execution_count": 119,
     "metadata": {},
     "output_type": "execute_result"
    }
   ],
   "source": [
    "datasets =pd.read_excel(\"annual-number-of-deaths-by-cause.xlsx\")\n",
    "New_table=datasets.head(35).to_html(index=False)\n",
    "New_table=New_table.replace('<table','<table style=\"background-color:#6495ED; border: 1px #A9A9A9 solid; width:100%\"')\n",
    "HTML(New_table)"
   ]
  },
  {
   "cell_type": "markdown",
   "id": "cad41e54",
   "metadata": {},
   "source": [
    "<h3 style=\"color:#0000FF;\">Cleaning Empty Cells:</h3> "
   ]
  },
  {
   "cell_type": "code",
   "execution_count": 120,
   "id": "f501b548",
   "metadata": {},
   "outputs": [
    {
     "data": {
      "text/html": [
       "<table style=\"background-color:#6495ED; border: 1px #A9A9A9 solid; width:100%\" border=\"1\" class=\"dataframe\">\n",
       "  <thead>\n",
       "    <tr style=\"text-align: right;\">\n",
       "      <th>Entity</th>\n",
       "      <th>Code</th>\n",
       "      <th>Year</th>\n",
       "      <th>Deaths - Drug use disorders</th>\n",
       "      <th>Deaths - Alcohol use disorders</th>\n",
       "    </tr>\n",
       "  </thead>\n",
       "  <tbody>\n",
       "    <tr>\n",
       "      <td>Afghanistan</td>\n",
       "      <td>AFG</td>\n",
       "      <td>2007</td>\n",
       "      <td>252.0</td>\n",
       "      <td>111.0</td>\n",
       "    </tr>\n",
       "    <tr>\n",
       "      <td>Afghanistan</td>\n",
       "      <td>AFG</td>\n",
       "      <td>2008</td>\n",
       "      <td>261.0</td>\n",
       "      <td>114.0</td>\n",
       "    </tr>\n",
       "    <tr>\n",
       "      <td>Afghanistan</td>\n",
       "      <td>AFG</td>\n",
       "      <td>2009</td>\n",
       "      <td>270.0</td>\n",
       "      <td>115.0</td>\n",
       "    </tr>\n",
       "    <tr>\n",
       "      <td>Afghanistan</td>\n",
       "      <td>AFG</td>\n",
       "      <td>2011</td>\n",
       "      <td>292.0</td>\n",
       "      <td>120.0</td>\n",
       "    </tr>\n",
       "    <tr>\n",
       "      <td>Afghanistan</td>\n",
       "      <td>AFG</td>\n",
       "      <td>2012</td>\n",
       "      <td>305.0</td>\n",
       "      <td>124.0</td>\n",
       "    </tr>\n",
       "    <tr>\n",
       "      <td>Afghanistan</td>\n",
       "      <td>AFG</td>\n",
       "      <td>2013</td>\n",
       "      <td>316.0</td>\n",
       "      <td>126.0</td>\n",
       "    </tr>\n",
       "    <tr>\n",
       "      <td>Afghanistan</td>\n",
       "      <td>AFG</td>\n",
       "      <td>2014</td>\n",
       "      <td>326.0</td>\n",
       "      <td>128.0</td>\n",
       "    </tr>\n",
       "    <tr>\n",
       "      <td>Afghanistan</td>\n",
       "      <td>AFG</td>\n",
       "      <td>2015</td>\n",
       "      <td>339.0</td>\n",
       "      <td>131.0</td>\n",
       "    </tr>\n",
       "    <tr>\n",
       "      <td>Afghanistan</td>\n",
       "      <td>AFG</td>\n",
       "      <td>2016</td>\n",
       "      <td>354.0</td>\n",
       "      <td>135.0</td>\n",
       "    </tr>\n",
       "    <tr>\n",
       "      <td>Afghanistan</td>\n",
       "      <td>AFG</td>\n",
       "      <td>1990</td>\n",
       "      <td>93.0</td>\n",
       "      <td>72.0</td>\n",
       "    </tr>\n",
       "  </tbody>\n",
       "</table>"
      ],
      "text/plain": [
       "<IPython.core.display.HTML object>"
      ]
     },
     "execution_count": 120,
     "metadata": {},
     "output_type": "execute_result"
    }
   ],
   "source": [
    "#These rows had cells with empty values will be removed.\n",
    "#Note that for Code there are empty values that need to be cleaned from the dataset\n",
    "new_df = datasets.dropna()\n",
    "New_table=new_df.head(10).to_html(index=False)\n",
    "New_table=New_table.replace('<table','<table style=\"background-color:#6495ED; border: 1px #A9A9A9 solid; width:100%\"')\n",
    "HTML(New_table)"
   ]
  },
  {
   "cell_type": "markdown",
   "id": "0b8b3d40",
   "metadata": {},
   "source": [
    "<img src=\"imgs/describe.jpeg\" style=\"border: 2px black solid;border-radius: 50%;width:350px; margin-left: auto;margin-right: auto;\">"
   ]
  },
  {
   "cell_type": "code",
   "execution_count": 82,
   "id": "8b5bc922",
   "metadata": {
    "scrolled": false
   },
   "outputs": [
    {
     "data": {
      "text/html": [
       "<table style=\"background-color:#6495ED; border: 1px #A9A9A9 solid; width:100%\" border=\"1\" class=\"dataframe\">\n",
       "  <thead>\n",
       "    <tr style=\"text-align: right;\">\n",
       "      <th></th>\n",
       "      <th>Year</th>\n",
       "      <th>Deaths - Drug use disorders</th>\n",
       "      <th>Deaths - Alcohol use disorders</th>\n",
       "    </tr>\n",
       "  </thead>\n",
       "  <tbody>\n",
       "    <tr>\n",
       "      <th>count</th>\n",
       "      <td>169.000000</td>\n",
       "      <td>169.000000</td>\n",
       "      <td>169.000000</td>\n",
       "    </tr>\n",
       "    <tr>\n",
       "      <th>mean</th>\n",
       "      <td>2003.881657</td>\n",
       "      <td>111.698225</td>\n",
       "      <td>52.195266</td>\n",
       "    </tr>\n",
       "    <tr>\n",
       "      <th>std</th>\n",
       "      <td>8.562666</td>\n",
       "      <td>151.895947</td>\n",
       "      <td>51.817822</td>\n",
       "    </tr>\n",
       "    <tr>\n",
       "      <th>min</th>\n",
       "      <td>1990.000000</td>\n",
       "      <td>0.000000</td>\n",
       "      <td>0.000000</td>\n",
       "    </tr>\n",
       "    <tr>\n",
       "      <th>25%</th>\n",
       "      <td>1997.000000</td>\n",
       "      <td>0.000000</td>\n",
       "      <td>1.000000</td>\n",
       "    </tr>\n",
       "    <tr>\n",
       "      <th>50%</th>\n",
       "      <td>2004.000000</td>\n",
       "      <td>24.000000</td>\n",
       "      <td>18.000000</td>\n",
       "    </tr>\n",
       "    <tr>\n",
       "      <th>75%</th>\n",
       "      <td>2011.000000</td>\n",
       "      <td>216.000000</td>\n",
       "      <td>101.000000</td>\n",
       "    </tr>\n",
       "    <tr>\n",
       "      <th>max</th>\n",
       "      <td>2019.000000</td>\n",
       "      <td>526.000000</td>\n",
       "      <td>147.000000</td>\n",
       "    </tr>\n",
       "  </tbody>\n",
       "</table>"
      ],
      "text/plain": [
       "<IPython.core.display.HTML object>"
      ]
     },
     "execution_count": 82,
     "metadata": {},
     "output_type": "execute_result"
    }
   ],
   "source": [
    "desc_table=new_df.describe()\n",
    "Newdesc_table=desc_table.to_html()\n",
    "Newdesc_table=Newdesc_table.replace('<table','<table style=\"background-color:#6495ED; border: 1px #A9A9A9 solid; width:100%\"')\n",
    "HTML(Newdesc_table)"
   ]
  },
  {
   "cell_type": "markdown",
   "id": "84744ea3",
   "metadata": {},
   "source": [
    "***\n",
    "<div>\n",
    "   <h1 style='color:#0000FF;text-align: center;font-family:Times New Roman;'><u>Deaths - Drug use disorders Descriptive Analysis</u></h1>\n",
    "   <img src=\"imgs/Drugs.png\" style=\"width:250px;display: block;margin-left: auto;margin-right: auto;\">\n",
    "</div>\n",
    "\n",
    "\n",
    "<span style='color:#0000FF;font-size:18px'> Mean:</span>"
   ]
  },
  {
   "cell_type": "code",
   "execution_count": 110,
   "id": "62c806b4",
   "metadata": {},
   "outputs": [
    {
     "data": {
      "text/plain": [
       "111.69822485207101"
      ]
     },
     "execution_count": 110,
     "metadata": {},
     "output_type": "execute_result"
    }
   ],
   "source": [
    "Mean=new_df[\"Deaths - Drug use disorders\"].mean()\n",
    "Mean"
   ]
  },
  {
   "cell_type": "markdown",
   "id": "bab1a4ea",
   "metadata": {},
   "source": [
    "<span style='color:#0000FF;font-size:18px'> Count:</span>"
   ]
  },
  {
   "cell_type": "code",
   "execution_count": 84,
   "id": "8aab223c",
   "metadata": {},
   "outputs": [
    {
     "data": {
      "text/plain": [
       "169"
      ]
     },
     "execution_count": 84,
     "metadata": {},
     "output_type": "execute_result"
    }
   ],
   "source": [
    "Count= new_df[\"Deaths - Drug use disorders\"].count()\n",
    "Count"
   ]
  },
  {
   "cell_type": "markdown",
   "id": "57b16105",
   "metadata": {},
   "source": [
    "<span style='color:#0000FF;font-size:18px'> Max:</span>"
   ]
  },
  {
   "cell_type": "code",
   "execution_count": 85,
   "id": "6ca112c8",
   "metadata": {},
   "outputs": [
    {
     "data": {
      "text/plain": [
       "526"
      ]
     },
     "execution_count": 85,
     "metadata": {},
     "output_type": "execute_result"
    }
   ],
   "source": [
    "Large=new_df[\"Deaths - Drug use disorders\"].max()\n",
    "Large"
   ]
  },
  {
   "cell_type": "markdown",
   "id": "8209697f",
   "metadata": {},
   "source": [
    "<span style='color:#0000FF;font-size:18px'> Min:</span>"
   ]
  },
  {
   "cell_type": "code",
   "execution_count": 86,
   "id": "98e10952",
   "metadata": {},
   "outputs": [
    {
     "data": {
      "text/plain": [
       "0"
      ]
     },
     "execution_count": 86,
     "metadata": {},
     "output_type": "execute_result"
    }
   ],
   "source": [
    "Smallest=new_df[\"Deaths - Drug use disorders\"].min()\n",
    "Smallest"
   ]
  },
  {
   "cell_type": "markdown",
   "id": "a45813cb",
   "metadata": {},
   "source": [
    "<span style='color:#0000FF;font-size:18px'>Range:</span>"
   ]
  },
  {
   "cell_type": "code",
   "execution_count": 87,
   "id": "ccdebbff",
   "metadata": {},
   "outputs": [
    {
     "data": {
      "text/plain": [
       "526"
      ]
     },
     "execution_count": 87,
     "metadata": {},
     "output_type": "execute_result"
    }
   ],
   "source": [
    "Large-Smallest"
   ]
  },
  {
   "cell_type": "markdown",
   "id": "6a7b0470",
   "metadata": {},
   "source": [
    "<span style='color:#0000FF;font-size:18px'> Mode:</span>"
   ]
  },
  {
   "cell_type": "code",
   "execution_count": 88,
   "id": "4d9f933c",
   "metadata": {
    "scrolled": true
   },
   "outputs": [
    {
     "data": {
      "text/plain": [
       "0    0\n",
       "Name: Deaths - Drug use disorders, dtype: int64"
      ]
     },
     "execution_count": 88,
     "metadata": {},
     "output_type": "execute_result"
    }
   ],
   "source": [
    "Mode=new_df[\"Deaths - Drug use disorders\"].mode()\n",
    "Mode"
   ]
  },
  {
   "cell_type": "markdown",
   "id": "ce41091d",
   "metadata": {},
   "source": [
    "<span style='color:#0000FF; font-size:18px'>Geometric mean:</span>"
   ]
  },
  {
   "cell_type": "code",
   "execution_count": 89,
   "id": "a694257c",
   "metadata": {},
   "outputs": [
    {
     "data": {
      "text/plain": [
       "0.0"
      ]
     },
     "execution_count": 89,
     "metadata": {},
     "output_type": "execute_result"
    }
   ],
   "source": [
    "Geometric_mean=stats.gmean(new_df[\"Deaths - Drug use disorders\"])\n",
    "Geometric_mean"
   ]
  },
  {
   "cell_type": "markdown",
   "id": "29450711",
   "metadata": {},
   "source": [
    "<span style='color:#0000FF;font-size:18px'>Standard deviation</span>"
   ]
  },
  {
   "cell_type": "code",
   "execution_count": 90,
   "id": "3a34adc3",
   "metadata": {},
   "outputs": [
    {
     "data": {
      "text/plain": [
       "151.44588365922087"
      ]
     },
     "execution_count": 90,
     "metadata": {},
     "output_type": "execute_result"
    }
   ],
   "source": [
    "std_dev = np.std(new_df[\"Deaths - Drug use disorders\"])\n",
    "std_dev"
   ]
  },
  {
   "cell_type": "markdown",
   "id": "a568425f",
   "metadata": {},
   "source": [
    "<span style='color:#0000FF;font-size:18px'>Kurtosis:</span>"
   ]
  },
  {
   "cell_type": "code",
   "execution_count": 91,
   "id": "c59ecd1b",
   "metadata": {},
   "outputs": [
    {
     "data": {
      "text/plain": [
       "-0.15921152409845707"
      ]
     },
     "execution_count": 91,
     "metadata": {},
     "output_type": "execute_result"
    }
   ],
   "source": [
    "Kurt = kurtosis(new_df[\"Deaths - Drug use disorders\"])\n",
    "Kurt"
   ]
  },
  {
   "cell_type": "markdown",
   "id": "99913a8e",
   "metadata": {},
   "source": [
    "<span style='color:#0000FF;font-size:18px'>Skewness:</span>"
   ]
  },
  {
   "cell_type": "code",
   "execution_count": 92,
   "id": "a1868d0e",
   "metadata": {},
   "outputs": [
    {
     "data": {
      "text/plain": [
       "1.1297043380940979"
      ]
     },
     "execution_count": 92,
     "metadata": {},
     "output_type": "execute_result"
    }
   ],
   "source": [
    "Skewness = skew(new_df[\"Deaths - Drug use disorders\"])\n",
    "Skewness"
   ]
  },
  {
   "cell_type": "markdown",
   "id": "f05fe8e4",
   "metadata": {},
   "source": [
    "<span style='color:#0000FF;font-size:18px'>Coefficient of Variation:</span>"
   ]
  },
  {
   "cell_type": "code",
   "execution_count": 93,
   "id": "b757999d",
   "metadata": {},
   "outputs": [
    {
     "data": {
      "text/plain": [
       "1.355848616750984"
      ]
     },
     "execution_count": 93,
     "metadata": {},
     "output_type": "execute_result"
    }
   ],
   "source": [
    "Coef_V = std_dev/ Mean\n",
    "Coef_V"
   ]
  },
  {
   "cell_type": "markdown",
   "id": "733fc142",
   "metadata": {},
   "source": [
    "<span style='color:#0000FF;font-size:18px'>Standard Error:</span>"
   ]
  },
  {
   "cell_type": "code",
   "execution_count": 94,
   "id": "98a8e932",
   "metadata": {},
   "outputs": [
    {
     "data": {
      "text/plain": [
       "11.649683358401605"
      ]
     },
     "execution_count": 94,
     "metadata": {},
     "output_type": "execute_result"
    }
   ],
   "source": [
    "Standard_Error = std_dev/ np.sqrt(Count)\n",
    "Standard_Error"
   ]
  },
  {
   "cell_type": "markdown",
   "id": "a2b002ce",
   "metadata": {},
   "source": [
    "<span style='color:#0000FF;font-size:18px'>Sample Variance:</span>"
   ]
  },
  {
   "cell_type": "code",
   "execution_count": 95,
   "id": "c99bd470",
   "metadata": {},
   "outputs": [
    {
     "data": {
      "text/plain": [
       "22935.85567732226"
      ]
     },
     "execution_count": 95,
     "metadata": {},
     "output_type": "execute_result"
    }
   ],
   "source": [
    "Sample_v=np.var(new_df[\"Deaths - Drug use disorders\"])\n",
    "Sample_v"
   ]
  },
  {
   "cell_type": "markdown",
   "id": "5a395fb0",
   "metadata": {},
   "source": [
    "<span style='color:#0000FF;font-size:18px'>Sum:</span>"
   ]
  },
  {
   "cell_type": "code",
   "execution_count": 96,
   "id": "bd12a41e",
   "metadata": {},
   "outputs": [
    {
     "data": {
      "text/plain": [
       "18877"
      ]
     },
     "execution_count": 96,
     "metadata": {},
     "output_type": "execute_result"
    }
   ],
   "source": [
    "Sum = new_df[\"Deaths - Drug use disorders\"].sum()\n",
    "Sum"
   ]
  },
  {
   "cell_type": "markdown",
   "id": "9c0b3f49",
   "metadata": {},
   "source": [
    "<span style='color:#0000FF;font-size:18px'>Frequency Table:</span>"
   ]
  },
  {
   "cell_type": "code",
   "execution_count": 111,
   "id": "401fc78e",
   "metadata": {},
   "outputs": [
    {
     "data": {
      "text/html": [
       "<table style=\"background-color:#6495ED; border: 3px #A9A9A9 solid; width:100%\" border=\"1\" class=\"dataframe\">\n",
       "  <thead>\n",
       "    <tr style=\"text-align: right;\">\n",
       "      <th>Deaths - Drug use disorders</th>\n",
       "      <th>Frequency</th>\n",
       "    </tr>\n",
       "  </thead>\n",
       "  <tbody>\n",
       "    <tr>\n",
       "      <td>0</td>\n",
       "      <td>60</td>\n",
       "    </tr>\n",
       "    <tr>\n",
       "      <td>24</td>\n",
       "      <td>5</td>\n",
       "    </tr>\n",
       "    <tr>\n",
       "      <td>23</td>\n",
       "      <td>5</td>\n",
       "    </tr>\n",
       "    <tr>\n",
       "      <td>21</td>\n",
       "      <td>5</td>\n",
       "    </tr>\n",
       "    <tr>\n",
       "      <td>30</td>\n",
       "      <td>4</td>\n",
       "    </tr>\n",
       "    <tr>\n",
       "      <td>28</td>\n",
       "      <td>3</td>\n",
       "    </tr>\n",
       "    <tr>\n",
       "      <td>17</td>\n",
       "      <td>3</td>\n",
       "    </tr>\n",
       "    <tr>\n",
       "      <td>29</td>\n",
       "      <td>2</td>\n",
       "    </tr>\n",
       "    <tr>\n",
       "      <td>27</td>\n",
       "      <td>2</td>\n",
       "    </tr>\n",
       "    <tr>\n",
       "      <td>26</td>\n",
       "      <td>2</td>\n",
       "    </tr>\n",
       "    <tr>\n",
       "      <td>7</td>\n",
       "      <td>2</td>\n",
       "    </tr>\n",
       "  </tbody>\n",
       "</table>"
      ],
      "text/plain": [
       "<IPython.core.display.HTML object>"
      ]
     },
     "execution_count": 111,
     "metadata": {},
     "output_type": "execute_result"
    }
   ],
   "source": [
    "death_freq = new_df[\"Deaths - Drug use disorders\"].value_counts()\n",
    "myKeys=death_freq.keys()\n",
    "myVals=death_freq.values\n",
    "death_freq=pd.DataFrame({'Deaths - Drug use disorders': myKeys, 'Frequency': myVals})\n",
    "New_freq=death_freq.head(11).to_html(index=False)\n",
    "New_freq=New_freq.replace('<table','<table style=\"background-color:#6495ED; border: 3px #A9A9A9 solid; width:100%\"')\n",
    "HTML(New_freq)"
   ]
  },
  {
   "cell_type": "markdown",
   "id": "ebf09ae7",
   "metadata": {},
   "source": [
    "## <span style='color:#0000FF;'><u>Five number summary</u></span>"
   ]
  },
  {
   "cell_type": "markdown",
   "id": "d3c5e10b",
   "metadata": {},
   "source": [
    "<span style='color:#0000FF;font-size:18px'>First Quantile(Min):</span>"
   ]
  },
  {
   "cell_type": "code",
   "execution_count": 98,
   "id": "4c998a5d",
   "metadata": {},
   "outputs": [
    {
     "data": {
      "text/plain": [
       "0.0"
      ]
     },
     "execution_count": 98,
     "metadata": {},
     "output_type": "execute_result"
    }
   ],
   "source": [
    "new_df[\"Deaths - Drug use disorders\"].quantile(0)"
   ]
  },
  {
   "cell_type": "markdown",
   "id": "6e7424ed",
   "metadata": {},
   "source": [
    "<span style='color:#0000FF;font-size:18px'>Second Quantile:</span>"
   ]
  },
  {
   "cell_type": "code",
   "execution_count": 99,
   "id": "17d013de",
   "metadata": {},
   "outputs": [
    {
     "data": {
      "text/plain": [
       "0.0"
      ]
     },
     "execution_count": 99,
     "metadata": {},
     "output_type": "execute_result"
    }
   ],
   "source": [
    "new_df[\"Deaths - Drug use disorders\"].quantile(0.25)"
   ]
  },
  {
   "cell_type": "markdown",
   "id": "f4abd13f",
   "metadata": {},
   "source": [
    "<span style='color:#0000FF;font-size:18px'>Median:</span>"
   ]
  },
  {
   "cell_type": "code",
   "execution_count": 100,
   "id": "07cfb1fc",
   "metadata": {},
   "outputs": [
    {
     "data": {
      "text/plain": [
       "24.0"
      ]
     },
     "execution_count": 100,
     "metadata": {},
     "output_type": "execute_result"
    }
   ],
   "source": [
    "new_df[\"Deaths - Drug use disorders\"].quantile(0.50)"
   ]
  },
  {
   "cell_type": "markdown",
   "id": "6ad80488",
   "metadata": {},
   "source": [
    "<span style='color:#0000FF;font-size:18px'>Thirth Quantile:</span>"
   ]
  },
  {
   "cell_type": "code",
   "execution_count": 101,
   "id": "19f32818",
   "metadata": {},
   "outputs": [
    {
     "data": {
      "text/plain": [
       "216.0"
      ]
     },
     "execution_count": 101,
     "metadata": {},
     "output_type": "execute_result"
    }
   ],
   "source": [
    "new_df[\"Deaths - Drug use disorders\"].quantile(0.75)"
   ]
  },
  {
   "cell_type": "markdown",
   "id": "11cc2cdb",
   "metadata": {},
   "source": [
    "<span style='color:#0000FF;font-size:18px'>Forth Quantile(Max):</span>"
   ]
  },
  {
   "cell_type": "code",
   "execution_count": 102,
   "id": "06343ed2",
   "metadata": {},
   "outputs": [
    {
     "data": {
      "text/plain": [
       "526.0"
      ]
     },
     "execution_count": 102,
     "metadata": {},
     "output_type": "execute_result"
    }
   ],
   "source": [
    "new_df[\"Deaths - Drug use disorders\"].quantile(1)"
   ]
  },
  {
   "cell_type": "markdown",
   "id": "40185061",
   "metadata": {},
   "source": [
    "## <span style='color:#0000FF'><u>Graphs For Deaths - Drug use disorders</u></span>"
   ]
  },
  {
   "cell_type": "markdown",
   "id": "9148905b",
   "metadata": {},
   "source": [
    "<span style='color:#0000FF;font-size:18px'>Box Plot:</span>"
   ]
  },
  {
   "cell_type": "code",
   "execution_count": 112,
   "id": "46aab1df",
   "metadata": {
    "scrolled": true
   },
   "outputs": [
    {
     "data": {
      "image/png": "[encoded data removed]",
      "text/plain": [
       "<Figure size 640x480 with 1 Axes>"
      ]
     },
     "metadata": {},
     "output_type": "display_data"
    }
   ],
   "source": [
    "sns.boxplot(y=new_df['Deaths - Drug use disorders'])\n",
    "plt.show()"
   ]
  },
  {
   "cell_type": "markdown",
   "id": "9ee86dda",
   "metadata": {},
   "source": [
    "<span style='color:#0000FF;font-size:18px'>Histogram:</span>"
   ]
  },
  {
   "cell_type": "code",
   "execution_count": 113,
   "id": "83938136",
   "metadata": {},
   "outputs": [
    {
     "data": {
      "image/png": "[encoded data removed]",
      "text/plain": [
       "<Figure size 640x480 with 1 Axes>"
      ]
     },
     "metadata": {},
     "output_type": "display_data"
    }
   ],
   "source": [
    "plt.hist(new_df['Deaths - Drug use disorders'])\n",
    "plt.title('Histogram For Deaths - HIV/AIDS')\n",
    "plt.xlabel('Number of Death')\n",
    "plt.ylabel('Frequency')\n",
    "plt.show()"
   ]
  },
  {
   "cell_type": "markdown",
   "id": "93e46d3c",
   "metadata": {},
   "source": [
    "***\n",
    "<h1 style='color:#0000FF;text-align: center;font-family:Times New Roman;'><u>Deaths - Alcohol use disorders Descriptive Analysis</u></h1>\n",
    "<img src=\"imgs/alcohol-use-disorder.jpg\" style=\"border-radius: 50%;width:250px;display: block;margin-left: auto;margin-right:auto;\">"
   ]
  },
  {
   "cell_type": "markdown",
   "id": "261ad229",
   "metadata": {},
   "source": [
    "<span style='color:#0000FF;font-size:18px'> Mean:</span>"
   ]
  },
  {
   "cell_type": "code",
   "execution_count": 41,
   "id": "d171f61e",
   "metadata": {},
   "outputs": [
    {
     "data": {
      "text/plain": [
       "52.19526627218935"
      ]
     },
     "execution_count": 41,
     "metadata": {},
     "output_type": "execute_result"
    }
   ],
   "source": [
    "Mean=new_df[\"Deaths - Alcohol use disorders\"].mean()\n",
    "Mean"
   ]
  },
  {
   "cell_type": "markdown",
   "id": "2b966cde",
   "metadata": {},
   "source": [
    "<span style='color:#0000FF;font-size:18px'> Count:</span>"
   ]
  },
  {
   "cell_type": "code",
   "execution_count": 42,
   "id": "d4721e5d",
   "metadata": {},
   "outputs": [
    {
     "data": {
      "text/plain": [
       "169"
      ]
     },
     "execution_count": 42,
     "metadata": {},
     "output_type": "execute_result"
    }
   ],
   "source": [
    "Count= new_df[\"Deaths - Alcohol use disorders\"].count()\n",
    "Count"
   ]
  },
  {
   "cell_type": "markdown",
   "id": "6d7ab652",
   "metadata": {},
   "source": [
    "<span style='color:#0000FF;font-size:18px'> Max:</span>"
   ]
  },
  {
   "cell_type": "code",
   "execution_count": 44,
   "id": "3f30c40b",
   "metadata": {},
   "outputs": [
    {
     "data": {
      "text/plain": [
       "147"
      ]
     },
     "execution_count": 44,
     "metadata": {},
     "output_type": "execute_result"
    }
   ],
   "source": [
    "Large=new_df[\"Deaths - Alcohol use disorders\"].max()\n",
    "Large"
   ]
  },
  {
   "cell_type": "markdown",
   "id": "6a88694c",
   "metadata": {},
   "source": [
    "<span style='color:#0000FF;font-size:18px'> Min:</span>"
   ]
  },
  {
   "cell_type": "code",
   "execution_count": 45,
   "id": "cabe1861",
   "metadata": {},
   "outputs": [
    {
     "data": {
      "text/plain": [
       "0"
      ]
     },
     "execution_count": 45,
     "metadata": {},
     "output_type": "execute_result"
    }
   ],
   "source": [
    "Smallest=new_df[\"Deaths - Alcohol use disorders\"].min()\n",
    "Smallest"
   ]
  },
  {
   "cell_type": "markdown",
   "id": "db6a4927",
   "metadata": {},
   "source": [
    "<span style='color:#0000FF;font-size:18px'>Range:</span>"
   ]
  },
  {
   "cell_type": "code",
   "execution_count": 46,
   "id": "ab914abc",
   "metadata": {},
   "outputs": [
    {
     "data": {
      "text/plain": [
       "147"
      ]
     },
     "execution_count": 46,
     "metadata": {},
     "output_type": "execute_result"
    }
   ],
   "source": [
    "Large-Smallest"
   ]
  },
  {
   "cell_type": "markdown",
   "id": "d5cb210e",
   "metadata": {},
   "source": [
    "<span style='color:#0000FF;font-size:18px'> Mode:</span>"
   ]
  },
  {
   "cell_type": "code",
   "execution_count": 47,
   "id": "58b9e1a0",
   "metadata": {},
   "outputs": [
    {
     "data": {
      "text/plain": [
       "0    1\n",
       "Name: Deaths - Alcohol use disorders, dtype: int64"
      ]
     },
     "execution_count": 47,
     "metadata": {},
     "output_type": "execute_result"
    }
   ],
   "source": [
    "Mode=new_df[\"Deaths - Alcohol use disorders\"].mode()\n",
    "Mode"
   ]
  },
  {
   "cell_type": "markdown",
   "id": "96864907",
   "metadata": {},
   "source": [
    "<span style='color:#0000FF; font-size:18px'>Geometric mean:</span>"
   ]
  },
  {
   "cell_type": "code",
   "execution_count": 48,
   "id": "31f9fbfe",
   "metadata": {},
   "outputs": [
    {
     "data": {
      "text/plain": [
       "0.0"
      ]
     },
     "execution_count": 48,
     "metadata": {},
     "output_type": "execute_result"
    }
   ],
   "source": [
    "Geometric_mean=stats.gmean(new_df[\"Deaths - Alcohol use disorders\"])\n",
    "Geometric_mean"
   ]
  },
  {
   "cell_type": "markdown",
   "id": "e2f83154",
   "metadata": {},
   "source": [
    "<span style='color:#0000FF;font-size:18px'>Standard deviation:</span>"
   ]
  },
  {
   "cell_type": "code",
   "execution_count": 49,
   "id": "6f824f30",
   "metadata": {},
   "outputs": [
    {
     "data": {
      "text/plain": [
       "51.66428706053614"
      ]
     },
     "execution_count": 49,
     "metadata": {},
     "output_type": "execute_result"
    }
   ],
   "source": [
    "std_dev = np.std(new_df[\"Deaths - Alcohol use disorders\"])\n",
    "std_dev"
   ]
  },
  {
   "cell_type": "markdown",
   "id": "9be78a73",
   "metadata": {},
   "source": [
    "<span style='color:#0000FF;font-size:18px'>Kurtosis:</span>"
   ]
  },
  {
   "cell_type": "code",
   "execution_count": 50,
   "id": "d128d069",
   "metadata": {},
   "outputs": [
    {
     "data": {
      "text/plain": [
       "-1.613137632125046"
      ]
     },
     "execution_count": 50,
     "metadata": {},
     "output_type": "execute_result"
    }
   ],
   "source": [
    "Kurt = kurtosis(new_df[\"Deaths - Alcohol use disorders\"])\n",
    "Kurt"
   ]
  },
  {
   "cell_type": "markdown",
   "id": "8fd1a3e3",
   "metadata": {},
   "source": [
    "<span style='color:#0000FF;font-size:18px'>Skewness:</span>"
   ]
  },
  {
   "cell_type": "code",
   "execution_count": 51,
   "id": "0289b0c3",
   "metadata": {},
   "outputs": [
    {
     "data": {
      "text/plain": [
       "0.29938587364999725"
      ]
     },
     "execution_count": 51,
     "metadata": {},
     "output_type": "execute_result"
    }
   ],
   "source": [
    "Skewness = skew(new_df[\"Deaths - Alcohol use disorders\"])\n",
    "Skewness"
   ]
  },
  {
   "cell_type": "markdown",
   "id": "ba54b8ca",
   "metadata": {},
   "source": [
    "<span style='color:#0000FF;font-size:18px'>Coefficient of Variation:</span>"
   ]
  },
  {
   "cell_type": "code",
   "execution_count": 52,
   "id": "cabf2d7b",
   "metadata": {},
   "outputs": [
    {
     "data": {
      "text/plain": [
       "0.989827061923887"
      ]
     },
     "execution_count": 52,
     "metadata": {},
     "output_type": "execute_result"
    }
   ],
   "source": [
    "Coef_V = std_dev/ Mean\n",
    "Coef_V"
   ]
  },
  {
   "cell_type": "markdown",
   "id": "098a4689",
   "metadata": {},
   "source": [
    "<span style='color:#0000FF;font-size:18px'>Standard Error:</span>"
   ]
  },
  {
   "cell_type": "code",
   "execution_count": 53,
   "id": "a6b639ec",
   "metadata": {},
   "outputs": [
    {
     "data": {
      "text/plain": [
       "3.9741759277335493"
      ]
     },
     "execution_count": 53,
     "metadata": {},
     "output_type": "execute_result"
    }
   ],
   "source": [
    "Standard_Error = std_dev/ np.sqrt(Count)\n",
    "Standard_Error"
   ]
  },
  {
   "cell_type": "markdown",
   "id": "44ddae7e",
   "metadata": {},
   "source": [
    "<span style='color:#0000FF;font-size:18px'>Sample Variance:</span>"
   ]
  },
  {
   "cell_type": "code",
   "execution_count": 54,
   "id": "b0814ac7",
   "metadata": {},
   "outputs": [
    {
     "data": {
      "text/plain": [
       "2669.1985574734817"
      ]
     },
     "execution_count": 54,
     "metadata": {},
     "output_type": "execute_result"
    }
   ],
   "source": [
    "Sample_v=np.var(new_df[\"Deaths - Alcohol use disorders\"])\n",
    "Sample_v"
   ]
  },
  {
   "cell_type": "markdown",
   "id": "0f18334e",
   "metadata": {},
   "source": [
    "<span style='color:#0000FF;font-size:18px'>Sum:</span>"
   ]
  },
  {
   "cell_type": "code",
   "execution_count": 55,
   "id": "7c79fb05",
   "metadata": {},
   "outputs": [
    {
     "data": {
      "text/plain": [
       "8821"
      ]
     },
     "execution_count": 55,
     "metadata": {},
     "output_type": "execute_result"
    }
   ],
   "source": [
    "Sum = new_df[\"Deaths - Alcohol use disorders\"].sum()\n",
    "Sum"
   ]
  },
  {
   "cell_type": "markdown",
   "id": "71a45c49",
   "metadata": {},
   "source": [
    "<span style='color:#0000FF;font-size:18px'>Frequency Table:</span>"
   ]
  },
  {
   "cell_type": "code",
   "execution_count": 56,
   "id": "021f8f4c",
   "metadata": {},
   "outputs": [
    {
     "data": {
      "text/html": [
       "<table style=\"background-color:#6495ED; border: 3px #A9A9A9 solid; width:100%\" border=\"1\" class=\"dataframe\">\n",
       "  <thead>\n",
       "    <tr style=\"text-align: right;\">\n",
       "      <th></th>\n",
       "      <th>Deaths - Alcohol use disorders</th>\n",
       "      <th>Frequency</th>\n",
       "    </tr>\n",
       "  </thead>\n",
       "  <tbody>\n",
       "    <tr>\n",
       "      <th>0</th>\n",
       "      <td>1</td>\n",
       "      <td>47</td>\n",
       "    </tr>\n",
       "    <tr>\n",
       "      <th>1</th>\n",
       "      <td>0</td>\n",
       "      <td>13</td>\n",
       "    </tr>\n",
       "    <tr>\n",
       "      <th>2</th>\n",
       "      <td>18</td>\n",
       "      <td>6</td>\n",
       "    </tr>\n",
       "    <tr>\n",
       "      <th>3</th>\n",
       "      <td>16</td>\n",
       "      <td>6</td>\n",
       "    </tr>\n",
       "    <tr>\n",
       "      <th>4</th>\n",
       "      <td>17</td>\n",
       "      <td>5</td>\n",
       "    </tr>\n",
       "    <tr>\n",
       "      <th>5</th>\n",
       "      <td>111</td>\n",
       "      <td>4</td>\n",
       "    </tr>\n",
       "    <tr>\n",
       "      <th>6</th>\n",
       "      <td>89</td>\n",
       "      <td>4</td>\n",
       "    </tr>\n",
       "    <tr>\n",
       "      <th>7</th>\n",
       "      <td>15</td>\n",
       "      <td>4</td>\n",
       "    </tr>\n",
       "    <tr>\n",
       "      <th>8</th>\n",
       "      <td>101</td>\n",
       "      <td>4</td>\n",
       "    </tr>\n",
       "    <tr>\n",
       "      <th>9</th>\n",
       "      <td>98</td>\n",
       "      <td>3</td>\n",
       "    </tr>\n",
       "    <tr>\n",
       "      <th>10</th>\n",
       "      <td>90</td>\n",
       "      <td>3</td>\n",
       "    </tr>\n",
       "  </tbody>\n",
       "</table>"
      ],
      "text/plain": [
       "<IPython.core.display.HTML object>"
      ]
     },
     "execution_count": 56,
     "metadata": {},
     "output_type": "execute_result"
    }
   ],
   "source": [
    "death_freq = new_df[\"Deaths - Alcohol use disorders\"].value_counts()\n",
    "myKeys=death_freq.keys()\n",
    "myVals=death_freq.values\n",
    "death_freq=pd.DataFrame({'Deaths - Alcohol use disorders': myKeys, 'Frequency': myVals})\n",
    "New_freq=death_freq.head(11).to_html()\n",
    "New_freq=New_freq.replace('<table','<table style=\"background-color:#6495ED; border: 3px #A9A9A9 solid; width:100%\"')\n",
    "HTML(New_freq)"
   ]
  },
  {
   "cell_type": "markdown",
   "id": "6672ea19",
   "metadata": {},
   "source": [
    "## <span style='color:#0000FF;'><u>Five number summary</u></span>"
   ]
  },
  {
   "cell_type": "markdown",
   "id": "4448afcd",
   "metadata": {},
   "source": [
    "<span style='color:#0000FF;font-size:18px'>First Quantile(Min):</span>"
   ]
  },
  {
   "cell_type": "code",
   "execution_count": 57,
   "id": "019f0033",
   "metadata": {},
   "outputs": [
    {
     "data": {
      "text/plain": [
       "0.0"
      ]
     },
     "execution_count": 57,
     "metadata": {},
     "output_type": "execute_result"
    }
   ],
   "source": [
    "new_df[\"Deaths - Alcohol use disorders\"].quantile(0)"
   ]
  },
  {
   "cell_type": "markdown",
   "id": "030b0c38",
   "metadata": {},
   "source": [
    "<span style='color:#0000FF;font-size:18px'>Second Quantile:</span>"
   ]
  },
  {
   "cell_type": "code",
   "execution_count": 58,
   "id": "519cb9c2",
   "metadata": {},
   "outputs": [
    {
     "data": {
      "text/plain": [
       "1.0"
      ]
     },
     "execution_count": 58,
     "metadata": {},
     "output_type": "execute_result"
    }
   ],
   "source": [
    "new_df[\"Deaths - Alcohol use disorders\"].quantile(0.25)"
   ]
  },
  {
   "cell_type": "markdown",
   "id": "9529f2c9",
   "metadata": {},
   "source": [
    "<span style='color:#0000FF;font-size:18px'>Median:</span>"
   ]
  },
  {
   "cell_type": "code",
   "execution_count": 59,
   "id": "4a075cb9",
   "metadata": {},
   "outputs": [
    {
     "data": {
      "text/plain": [
       "18.0"
      ]
     },
     "execution_count": 59,
     "metadata": {},
     "output_type": "execute_result"
    }
   ],
   "source": [
    "new_df[\"Deaths - Alcohol use disorders\"].quantile(0.50)"
   ]
  },
  {
   "cell_type": "markdown",
   "id": "89fd159b",
   "metadata": {},
   "source": [
    "<span style='color:#0000FF;font-size:18px'>Thirth Quantile:</span>"
   ]
  },
  {
   "cell_type": "code",
   "execution_count": 60,
   "id": "f0c9ec44",
   "metadata": {},
   "outputs": [
    {
     "data": {
      "text/plain": [
       "101.0"
      ]
     },
     "execution_count": 60,
     "metadata": {},
     "output_type": "execute_result"
    }
   ],
   "source": [
    "new_df[\"Deaths - Alcohol use disorders\"].quantile(0.75)"
   ]
  },
  {
   "cell_type": "markdown",
   "id": "7a7eeddf",
   "metadata": {},
   "source": [
    "<span style='color:#0000FF;font-size:18px'>Forth Quantile(Max):</span>"
   ]
  },
  {
   "cell_type": "code",
   "execution_count": 61,
   "id": "036e306c",
   "metadata": {},
   "outputs": [
    {
     "data": {
      "text/plain": [
       "147.0"
      ]
     },
     "execution_count": 61,
     "metadata": {},
     "output_type": "execute_result"
    }
   ],
   "source": [
    "new_df[\"Deaths - Alcohol use disorders\"].quantile(1)"
   ]
  },
  {
   "cell_type": "markdown",
   "id": "9b1dc775",
   "metadata": {},
   "source": [
    "## <span style='color:#0000FF'><u>Graphs for Deaths - Alcohol use disorders<u/></span>"
   ]
  },
  {
   "cell_type": "markdown",
   "id": "bb925b83",
   "metadata": {},
   "source": [
    "<span style='color:#0000FF; font-size:18px'>Box Plot:</span>"
   ]
  },
  {
   "cell_type": "code",
   "execution_count": 114,
   "id": "31b4c78c",
   "metadata": {},
   "outputs": [
    {
     "data": {
      "image/png": "[encoded data removed]",
      "text/plain": [
       "<Figure size 640x480 with 1 Axes>"
      ]
     },
     "metadata": {},
     "output_type": "display_data"
    }
   ],
   "source": [
    "sns.boxplot(y=new_df['Deaths - Alcohol use disorders'])\n",
    "plt.show()"
   ]
  },
  {
   "cell_type": "markdown",
   "id": "4c4b7edb",
   "metadata": {},
   "source": [
    "<span style='color:#0000FF;font-size:18px'>Histogram:</span>"
   ]
  },
  {
   "cell_type": "code",
   "execution_count": 78,
   "id": "1f2e7637",
   "metadata": {},
   "outputs": [
    {
     "data": {
      "image/png": "[encoded data removed]",
      "text/plain": [
       "<Figure size 640x480 with 1 Axes>"
      ]
     },
     "metadata": {},
     "output_type": "display_data"
    }
   ],
   "source": [
    "plt.hist(new_df['Deaths - Alcohol use disorders'])\n",
    "plt.title('Histogram For Deaths - Alcohol use disorders')\n",
    "plt.xlabel('Number of Death')\n",
    "plt.ylabel('Frequency')\n",
    "plt.show()"
   ]
  },
  {
   "cell_type": "markdown",
   "id": "50e46333",
   "metadata": {},
   "source": [
    "<span style='color:#0000FF;font-size:18px'>Correlation matrix:</span>"
   ]
  },
  {
   "cell_type": "code",
   "execution_count": 115,
   "id": "d6eac0b6",
   "metadata": {
    "scrolled": false
   },
   "outputs": [
    {
     "name": "stderr",
     "output_type": "stream",
     "text": [
      "C:\\Users\\BONGZ\\AppData\\Local\\Temp\\ipykernel_17072\\2983462586.py:1: FutureWarning: The default value of numeric_only in DataFrame.corr is deprecated. In a future version, it will default to False. Select only valid columns or specify the value of numeric_only to silence this warning.\n",
      "  corr_matrix = new_df.corr()\n"
     ]
    },
    {
     "data": {
      "text/plain": [
       "<Axes: >"
      ]
     },
     "execution_count": 115,
     "metadata": {},
     "output_type": "execute_result"
    },
    {
     "data": {
      "image/png": "[encoded data removed]",
      "text/plain": [
       "<Figure size 640x480 with 2 Axes>"
      ]
     },
     "metadata": {},
     "output_type": "display_data"
    }
   ],
   "source": [
    "corr_matrix = new_df.corr()\n",
    "sns.heatmap(corr_matrix, cmap='mako',center=0, annot=True)"
   ]
  },
  {
   "cell_type": "markdown",
   "id": "38b1e439",
   "metadata": {},
   "source": [
    "<span style='color:#0000FF;font-size:18px'>Plot scatter:</span>"
   ]
  },
  {
   "cell_type": "code",
   "execution_count": 117,
   "id": "f399b348",
   "metadata": {
    "scrolled": true
   },
   "outputs": [
    {
     "data": {
      "image/png": "[encoded data removed]",
      "text/plain": [
       "<Figure size 640x480 with 1 Axes>"
      ]
     },
     "metadata": {},
     "output_type": "display_data"
    }
   ],
   "source": [
    "plt.scatter(new_df['Deaths - Drug use disorders'],new_df['Deaths - Alcohol use disorders'])\n",
    "plt.title('Drug & Alcohol Use Disorders Scatter Plot')\n",
    "plt.xlabel('X-axis')\n",
    "plt.ylabel('Y-axis')\n",
    "plt.show()"
   ]
  },
  {
   "cell_type": "markdown",
   "id": "5b331112",
   "metadata": {},
   "source": [
    "***"
   ]
  },
  {
   "cell_type": "markdown",
   "id": "aa0d8707",
   "metadata": {},
   "source": [
    "<div style='border:3px blue solid;padding:15px;margin:15px;background-color:#1E90FF;border-radius:5px'>\n",
    "<h1 style='text-align:center;font-family:Times New Roman;color:#ffff'><u>CONCLUTION FROM THE ANALYSIS ABOVE!</u></h1>\n",
    "\n",
    "<p style='color:#ffff;font-size:16px'>HIV/AIDS is much more variable and having a higher degree of skewness and kurtosis than deaths due to alcohol. The mean number of deaths due to alcohol is much higher than that of deaths due to HIV/AIDS.The sum of the deaths related to Alcohol is 172,654, while the sum of the deaths related to HIV/AIDS is 28,989,024. Therefore, the sum of deaths related to HIV/AIDS is much higher than the sum of deaths related to Alcohol.</p>\n",
    "\n",
    "<p style='color:#ffff;font-size:16px'>There could be a number of causes for this variation. The fact that HIV/AIDS is a virus that can spread through sexual contact, sharing of needles, and mother-to-child transmission during pregnancy, childbirth, or lactation is one factor. Contrarily, accidents, aggression, and chronic alcohol consumption are frequently the causes of alcohol-related fatalities. Unlike alcohol-related deaths, which often have a more limited impact, HIV/AIDS is a global disease that has afflicted millions of people worldwide.</p>\n",
    "\n",
    "<p style='color:#ffff;font-size:16px'>The scatter chart of HIV/AIDs show that from from 1990 until 2003 the death cases of HIV/AIDS  where increasing, this could be caused by the fact that HIV/AIDS was a relatively new and poorly understood disease in the 1990s and early 2000s. At that time, there were few effective treatments available, and public awareness and prevention efforts were limited. The death cases started to drop from 2004 until 2022 which means that treatment by then was already discoverd and people where more awere of it.</p>\n",
    "\n",
    "<p style='color:#ffff;font-size:16px'>The scatter chart of Alcohol indicate that more people are dying from alcohol use disorders ,the increased levels of alcohol intake are one of the primary causes of the rise in alcohol-related mortality. Throughout the past few decades, alcohol use has been rising significantly.</p>\n",
    "<h1 style='text-align:center;font-family:Times New Roman;color:#ffff'><u>Reflection</u></h1>\n",
    "<h4 style='color:#ffff;margin:6px 6px;font-size:16px'>1. Reflections on your learnings between this assignment and the previous one.</h4> \n",
    "    \n",
    "<p style='color:#ffff;margin:6px 6px;font-size:16px'></p>\n",
    "    \n",
    "<h4 style='color:#ffff;margin:6px 6px;font-size:16px'>2. What was different between Python and Excel?</h4>\n",
    "<p style='color:#ffff;margin:6px 6px;font-size:16px'></p>\n",
    "<p style='color:#ffff;margin:6px 6px;font-size:16px'></p>\n",
    "<h4 style='color:#ffff;margin:6px 6px;font-size:16px'>3. When will you use either of them?</h4>\n",
    "<p style='color:#ffff;margin:6px 6px;font-size:16px'></p>\n",
    "<h4 style='color:#ffff;margin:6px 6px;font-size:16px'>4. If you could do this assignment over, what would you do differently?</h4>\n",
    "    <ul>\n",
    "        <li style='color:#ffff;margin:6px 6px;font-size:16px'></li>\n",
    "    </ul>\n",
    "    <ul>\n",
    "        <li style='color:#ffff;margin:6px 6px;font-size:16px'></li>\n",
    "    </ul>\n",
    "\n",
    "\n",
    "<h4 style='color:#ffff;margin:6px 6px;font-size:16px'>5. What are the gaps in your programming or stats knowledge?</h4>\n",
    "    <ul>\n",
    "        <li style='color:#ffff;margin:6px 6px;font-size:16px'></li>\n",
    "    </ul>\n",
    "    <ul>\n",
    "        <li style='color:#ffff;margin:6px 6px;font-size:16px'></li>\n",
    "    </ul>\n",
    "\n",
    "\n",
    "\n",
    "</div>"
   ]
  },
  {
   "cell_type": "code",
   "execution_count": null,
   "id": "8c5c75b5",
   "metadata": {},
   "outputs": [],
   "source": []
  }
 ],
 "metadata": {
  "kernelspec": {
   "display_name": "Python 3 (ipykernel)",
   "language": "python",
   "name": "python3"
  },
  "language_info": {
   "codemirror_mode": {
    "name": "ipython",
    "version": 3
   },
   "file_extension": ".py",
   "mimetype": "text/x-python",
   "name": "python",
   "nbconvert_exporter": "python",
   "pygments_lexer": "ipython3",
   "version": "3.10.9"
  }
 },
 "nbformat": 4,
 "nbformat_minor": 5
}
